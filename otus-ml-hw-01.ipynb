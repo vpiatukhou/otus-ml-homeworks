{
 "cells": [
  {
   "cell_type": "markdown",
   "id": "5934003b-f713-462c-b7fe-d99fa5098515",
   "metadata": {},
   "source": [
    "Используется датасет https://www.kaggle.com/datasets/blastchar/telco-customer-churn/data\n",
    "\n",
    "Для запуска блокнота, скачайте датасет и поместите его в директорию с блокнотом."
   ]
  },
  {
   "cell_type": "code",
   "execution_count": 1,
   "id": "972e0cb6-4508-4b4f-8abe-19c5eef19eee",
   "metadata": {},
   "outputs": [],
   "source": [
    "%matplotlib inline\n",
    "import pandas as pd\n",
    "import numpy as np\n",
    "import matplotlib.pyplot as plt\n",
    "import seaborn as sns\n",
    "\n",
    "from pandas import to_numeric\n",
    "from sklearn.ensemble import GradientBoostingClassifier\n",
    "from sklearn.preprocessing import LabelEncoder\n",
    "from sklearn.model_selection import GridSearchCV, train_test_split\n",
    "from sklearn.metrics import roc_auc_score\n",
    "\n",
    "from catboost import CatBoostClassifier\n",
    "from lightgbm import LGBMClassifier\n",
    "from xgboost import XGBClassifier\n",
    "\n",
    "data = pd.read_csv('WA_Fn-UseC_-Telco-Customer-Churn.csv')"
   ]
  },
  {
   "cell_type": "markdown",
   "id": "28743da7",
   "metadata": {},
   "source": [
    "Выводим на экран несколько строк таблицы что бы получить примерное представление о данных."
   ]
  },
  {
   "cell_type": "code",
   "execution_count": 2,
   "id": "ad5a565a-f73f-47a9-b40c-8b15eea34cf4",
   "metadata": {},
   "outputs": [
    {
     "data": {
      "text/html": [
       "<div>\n",
       "<style scoped>\n",
       "    .dataframe tbody tr th:only-of-type {\n",
       "        vertical-align: middle;\n",
       "    }\n",
       "\n",
       "    .dataframe tbody tr th {\n",
       "        vertical-align: top;\n",
       "    }\n",
       "\n",
       "    .dataframe thead th {\n",
       "        text-align: right;\n",
       "    }\n",
       "</style>\n",
       "<table border=\"1\" class=\"dataframe\">\n",
       "  <thead>\n",
       "    <tr style=\"text-align: right;\">\n",
       "      <th></th>\n",
       "      <th>customerID</th>\n",
       "      <th>gender</th>\n",
       "      <th>SeniorCitizen</th>\n",
       "      <th>Partner</th>\n",
       "      <th>Dependents</th>\n",
       "      <th>tenure</th>\n",
       "      <th>PhoneService</th>\n",
       "      <th>MultipleLines</th>\n",
       "      <th>InternetService</th>\n",
       "      <th>OnlineSecurity</th>\n",
       "      <th>OnlineBackup</th>\n",
       "      <th>DeviceProtection</th>\n",
       "      <th>TechSupport</th>\n",
       "      <th>StreamingTV</th>\n",
       "      <th>StreamingMovies</th>\n",
       "      <th>Contract</th>\n",
       "      <th>PaperlessBilling</th>\n",
       "      <th>PaymentMethod</th>\n",
       "      <th>MonthlyCharges</th>\n",
       "      <th>TotalCharges</th>\n",
       "      <th>Churn</th>\n",
       "    </tr>\n",
       "  </thead>\n",
       "  <tbody>\n",
       "    <tr>\n",
       "      <th>0</th>\n",
       "      <td>7590-VHVEG</td>\n",
       "      <td>Female</td>\n",
       "      <td>0</td>\n",
       "      <td>Yes</td>\n",
       "      <td>No</td>\n",
       "      <td>1</td>\n",
       "      <td>No</td>\n",
       "      <td>No phone service</td>\n",
       "      <td>DSL</td>\n",
       "      <td>No</td>\n",
       "      <td>Yes</td>\n",
       "      <td>No</td>\n",
       "      <td>No</td>\n",
       "      <td>No</td>\n",
       "      <td>No</td>\n",
       "      <td>Month-to-month</td>\n",
       "      <td>Yes</td>\n",
       "      <td>Electronic check</td>\n",
       "      <td>29.85</td>\n",
       "      <td>29.85</td>\n",
       "      <td>No</td>\n",
       "    </tr>\n",
       "    <tr>\n",
       "      <th>1</th>\n",
       "      <td>5575-GNVDE</td>\n",
       "      <td>Male</td>\n",
       "      <td>0</td>\n",
       "      <td>No</td>\n",
       "      <td>No</td>\n",
       "      <td>34</td>\n",
       "      <td>Yes</td>\n",
       "      <td>No</td>\n",
       "      <td>DSL</td>\n",
       "      <td>Yes</td>\n",
       "      <td>No</td>\n",
       "      <td>Yes</td>\n",
       "      <td>No</td>\n",
       "      <td>No</td>\n",
       "      <td>No</td>\n",
       "      <td>One year</td>\n",
       "      <td>No</td>\n",
       "      <td>Mailed check</td>\n",
       "      <td>56.95</td>\n",
       "      <td>1889.5</td>\n",
       "      <td>No</td>\n",
       "    </tr>\n",
       "    <tr>\n",
       "      <th>2</th>\n",
       "      <td>3668-QPYBK</td>\n",
       "      <td>Male</td>\n",
       "      <td>0</td>\n",
       "      <td>No</td>\n",
       "      <td>No</td>\n",
       "      <td>2</td>\n",
       "      <td>Yes</td>\n",
       "      <td>No</td>\n",
       "      <td>DSL</td>\n",
       "      <td>Yes</td>\n",
       "      <td>Yes</td>\n",
       "      <td>No</td>\n",
       "      <td>No</td>\n",
       "      <td>No</td>\n",
       "      <td>No</td>\n",
       "      <td>Month-to-month</td>\n",
       "      <td>Yes</td>\n",
       "      <td>Mailed check</td>\n",
       "      <td>53.85</td>\n",
       "      <td>108.15</td>\n",
       "      <td>Yes</td>\n",
       "    </tr>\n",
       "    <tr>\n",
       "      <th>3</th>\n",
       "      <td>7795-CFOCW</td>\n",
       "      <td>Male</td>\n",
       "      <td>0</td>\n",
       "      <td>No</td>\n",
       "      <td>No</td>\n",
       "      <td>45</td>\n",
       "      <td>No</td>\n",
       "      <td>No phone service</td>\n",
       "      <td>DSL</td>\n",
       "      <td>Yes</td>\n",
       "      <td>No</td>\n",
       "      <td>Yes</td>\n",
       "      <td>Yes</td>\n",
       "      <td>No</td>\n",
       "      <td>No</td>\n",
       "      <td>One year</td>\n",
       "      <td>No</td>\n",
       "      <td>Bank transfer (automatic)</td>\n",
       "      <td>42.30</td>\n",
       "      <td>1840.75</td>\n",
       "      <td>No</td>\n",
       "    </tr>\n",
       "    <tr>\n",
       "      <th>4</th>\n",
       "      <td>9237-HQITU</td>\n",
       "      <td>Female</td>\n",
       "      <td>0</td>\n",
       "      <td>No</td>\n",
       "      <td>No</td>\n",
       "      <td>2</td>\n",
       "      <td>Yes</td>\n",
       "      <td>No</td>\n",
       "      <td>Fiber optic</td>\n",
       "      <td>No</td>\n",
       "      <td>No</td>\n",
       "      <td>No</td>\n",
       "      <td>No</td>\n",
       "      <td>No</td>\n",
       "      <td>No</td>\n",
       "      <td>Month-to-month</td>\n",
       "      <td>Yes</td>\n",
       "      <td>Electronic check</td>\n",
       "      <td>70.70</td>\n",
       "      <td>151.65</td>\n",
       "      <td>Yes</td>\n",
       "    </tr>\n",
       "  </tbody>\n",
       "</table>\n",
       "</div>"
      ],
      "text/plain": [
       "   customerID  gender  SeniorCitizen Partner Dependents  tenure PhoneService  \\\n",
       "0  7590-VHVEG  Female              0     Yes         No       1           No   \n",
       "1  5575-GNVDE    Male              0      No         No      34          Yes   \n",
       "2  3668-QPYBK    Male              0      No         No       2          Yes   \n",
       "3  7795-CFOCW    Male              0      No         No      45           No   \n",
       "4  9237-HQITU  Female              0      No         No       2          Yes   \n",
       "\n",
       "      MultipleLines InternetService OnlineSecurity OnlineBackup  \\\n",
       "0  No phone service             DSL             No          Yes   \n",
       "1                No             DSL            Yes           No   \n",
       "2                No             DSL            Yes          Yes   \n",
       "3  No phone service             DSL            Yes           No   \n",
       "4                No     Fiber optic             No           No   \n",
       "\n",
       "  DeviceProtection TechSupport StreamingTV StreamingMovies        Contract  \\\n",
       "0               No          No          No              No  Month-to-month   \n",
       "1              Yes          No          No              No        One year   \n",
       "2               No          No          No              No  Month-to-month   \n",
       "3              Yes         Yes          No              No        One year   \n",
       "4               No          No          No              No  Month-to-month   \n",
       "\n",
       "  PaperlessBilling              PaymentMethod  MonthlyCharges TotalCharges  \\\n",
       "0              Yes           Electronic check           29.85        29.85   \n",
       "1               No               Mailed check           56.95       1889.5   \n",
       "2              Yes               Mailed check           53.85       108.15   \n",
       "3               No  Bank transfer (automatic)           42.30      1840.75   \n",
       "4              Yes           Electronic check           70.70       151.65   \n",
       "\n",
       "  Churn  \n",
       "0    No  \n",
       "1    No  \n",
       "2   Yes  \n",
       "3    No  \n",
       "4   Yes  "
      ]
     },
     "execution_count": 2,
     "metadata": {},
     "output_type": "execute_result"
    }
   ],
   "source": [
    "pd.set_option('display.max_columns', None)\n",
    "pd.set_option('display.max_rows', None)\n",
    "data.head()"
   ]
  },
  {
   "cell_type": "markdown",
   "id": "e6926120-8dcf-42d4-b8a5-55d3ae137371",
   "metadata": {},
   "source": [
    "Есть ли записи, содержащие значения NaN или пустые строки?"
   ]
  },
  {
   "cell_type": "code",
   "execution_count": 3,
   "id": "8a58f88c-d3af-4bdb-82f3-1cc799d605fb",
   "metadata": {},
   "outputs": [
    {
     "data": {
      "text/plain": [
       "TotalCharges    11\n",
       "dtype: int64"
      ]
     },
     "execution_count": 3,
     "metadata": {},
     "output_type": "execute_result"
    }
   ],
   "source": [
    "#заменяем пустые строки на NaN\n",
    "data = data.replace(r'^\\s*$', np.nan, regex=True)\n",
    "#ищем колонки, которые содержат значения NaN, и подсчитываем количество таких значений\n",
    "s = data.isna().sum()\n",
    "s[s > 0]"
   ]
  },
  {
   "cell_type": "markdown",
   "id": "e1b15787",
   "metadata": {},
   "source": [
    "Совсем небольшое количество записей содержит значения NaN. Их можно удалить."
   ]
  },
  {
   "cell_type": "code",
   "execution_count": 4,
   "id": "20f9d986-67a6-4e3a-9ec8-27467e4f3e01",
   "metadata": {},
   "outputs": [],
   "source": [
    "data = data.dropna()"
   ]
  },
  {
   "cell_type": "markdown",
   "id": "8de8c45b",
   "metadata": {},
   "source": [
    "Ищем признаки, содержащие строковые данные. Принимаем во внимание, что даже числовые признаки могут содержать строку, если датасет был подготовлен неаккуратно. Например: [2.31, '3.123', 1.23]. Выводим несколько строк таблицы что бы убедится, что найденные данные действительно не числовые."
   ]
  },
  {
   "cell_type": "code",
   "execution_count": 5,
   "id": "39431c63",
   "metadata": {},
   "outputs": [
    {
     "data": {
      "text/html": [
       "<div>\n",
       "<style scoped>\n",
       "    .dataframe tbody tr th:only-of-type {\n",
       "        vertical-align: middle;\n",
       "    }\n",
       "\n",
       "    .dataframe tbody tr th {\n",
       "        vertical-align: top;\n",
       "    }\n",
       "\n",
       "    .dataframe thead th {\n",
       "        text-align: right;\n",
       "    }\n",
       "</style>\n",
       "<table border=\"1\" class=\"dataframe\">\n",
       "  <thead>\n",
       "    <tr style=\"text-align: right;\">\n",
       "      <th></th>\n",
       "      <th>customerID</th>\n",
       "      <th>gender</th>\n",
       "      <th>Partner</th>\n",
       "      <th>Dependents</th>\n",
       "      <th>PhoneService</th>\n",
       "      <th>MultipleLines</th>\n",
       "      <th>InternetService</th>\n",
       "      <th>OnlineSecurity</th>\n",
       "      <th>OnlineBackup</th>\n",
       "      <th>DeviceProtection</th>\n",
       "      <th>TechSupport</th>\n",
       "      <th>StreamingTV</th>\n",
       "      <th>StreamingMovies</th>\n",
       "      <th>Contract</th>\n",
       "      <th>PaperlessBilling</th>\n",
       "      <th>PaymentMethod</th>\n",
       "      <th>TotalCharges</th>\n",
       "      <th>Churn</th>\n",
       "    </tr>\n",
       "  </thead>\n",
       "  <tbody>\n",
       "    <tr>\n",
       "      <th>0</th>\n",
       "      <td>7590-VHVEG</td>\n",
       "      <td>Female</td>\n",
       "      <td>Yes</td>\n",
       "      <td>No</td>\n",
       "      <td>No</td>\n",
       "      <td>No phone service</td>\n",
       "      <td>DSL</td>\n",
       "      <td>No</td>\n",
       "      <td>Yes</td>\n",
       "      <td>No</td>\n",
       "      <td>No</td>\n",
       "      <td>No</td>\n",
       "      <td>No</td>\n",
       "      <td>Month-to-month</td>\n",
       "      <td>Yes</td>\n",
       "      <td>Electronic check</td>\n",
       "      <td>29.85</td>\n",
       "      <td>No</td>\n",
       "    </tr>\n",
       "    <tr>\n",
       "      <th>1</th>\n",
       "      <td>5575-GNVDE</td>\n",
       "      <td>Male</td>\n",
       "      <td>No</td>\n",
       "      <td>No</td>\n",
       "      <td>Yes</td>\n",
       "      <td>No</td>\n",
       "      <td>DSL</td>\n",
       "      <td>Yes</td>\n",
       "      <td>No</td>\n",
       "      <td>Yes</td>\n",
       "      <td>No</td>\n",
       "      <td>No</td>\n",
       "      <td>No</td>\n",
       "      <td>One year</td>\n",
       "      <td>No</td>\n",
       "      <td>Mailed check</td>\n",
       "      <td>1889.5</td>\n",
       "      <td>No</td>\n",
       "    </tr>\n",
       "    <tr>\n",
       "      <th>2</th>\n",
       "      <td>3668-QPYBK</td>\n",
       "      <td>Male</td>\n",
       "      <td>No</td>\n",
       "      <td>No</td>\n",
       "      <td>Yes</td>\n",
       "      <td>No</td>\n",
       "      <td>DSL</td>\n",
       "      <td>Yes</td>\n",
       "      <td>Yes</td>\n",
       "      <td>No</td>\n",
       "      <td>No</td>\n",
       "      <td>No</td>\n",
       "      <td>No</td>\n",
       "      <td>Month-to-month</td>\n",
       "      <td>Yes</td>\n",
       "      <td>Mailed check</td>\n",
       "      <td>108.15</td>\n",
       "      <td>Yes</td>\n",
       "    </tr>\n",
       "    <tr>\n",
       "      <th>3</th>\n",
       "      <td>7795-CFOCW</td>\n",
       "      <td>Male</td>\n",
       "      <td>No</td>\n",
       "      <td>No</td>\n",
       "      <td>No</td>\n",
       "      <td>No phone service</td>\n",
       "      <td>DSL</td>\n",
       "      <td>Yes</td>\n",
       "      <td>No</td>\n",
       "      <td>Yes</td>\n",
       "      <td>Yes</td>\n",
       "      <td>No</td>\n",
       "      <td>No</td>\n",
       "      <td>One year</td>\n",
       "      <td>No</td>\n",
       "      <td>Bank transfer (automatic)</td>\n",
       "      <td>1840.75</td>\n",
       "      <td>No</td>\n",
       "    </tr>\n",
       "    <tr>\n",
       "      <th>4</th>\n",
       "      <td>9237-HQITU</td>\n",
       "      <td>Female</td>\n",
       "      <td>No</td>\n",
       "      <td>No</td>\n",
       "      <td>Yes</td>\n",
       "      <td>No</td>\n",
       "      <td>Fiber optic</td>\n",
       "      <td>No</td>\n",
       "      <td>No</td>\n",
       "      <td>No</td>\n",
       "      <td>No</td>\n",
       "      <td>No</td>\n",
       "      <td>No</td>\n",
       "      <td>Month-to-month</td>\n",
       "      <td>Yes</td>\n",
       "      <td>Electronic check</td>\n",
       "      <td>151.65</td>\n",
       "      <td>Yes</td>\n",
       "    </tr>\n",
       "  </tbody>\n",
       "</table>\n",
       "</div>"
      ],
      "text/plain": [
       "   customerID  gender Partner Dependents PhoneService     MultipleLines  \\\n",
       "0  7590-VHVEG  Female     Yes         No           No  No phone service   \n",
       "1  5575-GNVDE    Male      No         No          Yes                No   \n",
       "2  3668-QPYBK    Male      No         No          Yes                No   \n",
       "3  7795-CFOCW    Male      No         No           No  No phone service   \n",
       "4  9237-HQITU  Female      No         No          Yes                No   \n",
       "\n",
       "  InternetService OnlineSecurity OnlineBackup DeviceProtection TechSupport  \\\n",
       "0             DSL             No          Yes               No          No   \n",
       "1             DSL            Yes           No              Yes          No   \n",
       "2             DSL            Yes          Yes               No          No   \n",
       "3             DSL            Yes           No              Yes         Yes   \n",
       "4     Fiber optic             No           No               No          No   \n",
       "\n",
       "  StreamingTV StreamingMovies        Contract PaperlessBilling  \\\n",
       "0          No              No  Month-to-month              Yes   \n",
       "1          No              No        One year               No   \n",
       "2          No              No  Month-to-month              Yes   \n",
       "3          No              No        One year               No   \n",
       "4          No              No  Month-to-month              Yes   \n",
       "\n",
       "               PaymentMethod TotalCharges Churn  \n",
       "0           Electronic check        29.85    No  \n",
       "1               Mailed check       1889.5    No  \n",
       "2               Mailed check       108.15   Yes  \n",
       "3  Bank transfer (automatic)      1840.75    No  \n",
       "4           Electronic check       151.65   Yes  "
      ]
     },
     "execution_count": 5,
     "metadata": {},
     "output_type": "execute_result"
    }
   ],
   "source": [
    "data.select_dtypes(include=['object']).head()"
   ]
  },
  {
   "cell_type": "markdown",
   "id": "8dca2183",
   "metadata": {},
   "source": [
    "Результат предыдущей операции содержит колонку TotalCharges, хотя очевидно, что она содержит числовые данные. Конвертируем все значения данной колонки в числовой тип данных."
   ]
  },
  {
   "cell_type": "code",
   "execution_count": 6,
   "id": "c9df12a6",
   "metadata": {},
   "outputs": [
    {
     "data": {
      "text/plain": [
       "0      29.850000\n",
       "1    1889.500000\n",
       "2     108.150002\n",
       "3    1840.750000\n",
       "4     151.649994\n",
       "Name: TotalCharges, dtype: float32"
      ]
     },
     "execution_count": 6,
     "metadata": {},
     "output_type": "execute_result"
    }
   ],
   "source": [
    "data['TotalCharges'] = to_numeric(data['TotalCharges'], errors='raise', downcast='float')\n",
    "\n",
    "#Проверяем, что мы нигде не ошиблись и данные успешно конвертировались. Результаты показывают что значения немного потеряли в точности (вместо 151.65 получилось 151.649994, но это не страшно).\n",
    "data['TotalCharges'].head()"
   ]
  },
  {
   "cell_type": "markdown",
   "id": "968dc782",
   "metadata": {},
   "source": [
    "Прежде чем кодировать категориальные признаки, удалим колонку customerID, т.к. она заведомо бесполезна."
   ]
  },
  {
   "cell_type": "code",
   "execution_count": 7,
   "id": "faa16fb6",
   "metadata": {},
   "outputs": [],
   "source": [
    "data = data.drop(columns=['customerID'])"
   ]
  },
  {
   "cell_type": "markdown",
   "id": "38aebd9d",
   "metadata": {},
   "source": [
    "Кодируем категориальные признаки."
   ]
  },
  {
   "cell_type": "code",
   "execution_count": 8,
   "id": "ecfbe4ab",
   "metadata": {},
   "outputs": [],
   "source": [
    "\n",
    "categorial_data = data.select_dtypes(include=['object'])\n",
    "for column in categorial_data.columns:\n",
    "    data[column] = LabelEncoder().fit_transform(data[column])"
   ]
  },
  {
   "cell_type": "markdown",
   "id": "1ff1ff27",
   "metadata": {},
   "source": [
    "Найдем признаки которые слабо коррелируют с целевой переменной."
   ]
  },
  {
   "cell_type": "code",
   "execution_count": 9,
   "id": "b76c4929-4b8a-4b44-a561-77f7b648d598",
   "metadata": {},
   "outputs": [
    {
     "name": "stdout",
     "output_type": "stream",
     "text": [
      "gender 0.008544643224946347\n",
      "SeniorCitizen 0.15054105341568125\n",
      "Partner 0.14998192562005908\n",
      "Dependents 0.16312843938822022\n",
      "PhoneService 0.011691398865421603\n",
      "MultipleLines 0.03804327435621405\n",
      "InternetService 0.04709716459090005\n",
      "OnlineBackup 0.19529020856666374\n",
      "DeviceProtection 0.17788319529016175\n",
      "StreamingTV 0.036302721512460306\n",
      "StreamingMovies 0.03880174840533724\n",
      "PaperlessBilling 0.19145432108004623\n",
      "PaymentMethod 0.10785201511046885\n",
      "MonthlyCharges 0.192858218470079\n",
      "TotalCharges 0.19948408409394872\n"
     ]
    }
   ],
   "source": [
    "weak_corr_threshold = 0.2\n",
    "\n",
    "corr_matrix = data.corr()\n",
    "corr_to_target = corr_matrix['Churn']\n",
    "for column in corr_to_target.index:\n",
    "    corr_coefficient = abs(corr_to_target[column])\n",
    "    if corr_coefficient <= weak_corr_threshold:\n",
    "       print(column, corr_coefficient)"
   ]
  },
  {
   "cell_type": "markdown",
   "id": "9c8f83e0",
   "metadata": {},
   "source": [
    "Большинство признаков очень слабо коррелируют с целевой переменной. Удалим их.\n",
    "Признаки DeviceProtection, PaperlessBilling, MonthlyCharges и TotalCharges также не очень сильно коррелируют с целевой переменной, однако оставим их.\n",
    "\n",
    "ПРИМЕЧАНИЕ: забегая вперед, модель показывает лучший результат если оставить только три признака: OnlineSecurity, TechSupport и Contract.\n",
    "Однако, в этом случае классификатор будет работать лучше всего с параметрами по-умолчанию и качество будет одинаковым для всех классификаторов. Это нам не подходит т.к. в текущем задании необходимо произвести настройку гиперпараметров и сравнить классификаторы."
   ]
  },
  {
   "cell_type": "code",
   "execution_count": 10,
   "id": "78241c16",
   "metadata": {},
   "outputs": [],
   "source": [
    "data = data.drop(columns=['gender', 'SeniorCitizen', 'Partner',\n",
    "                          'Dependents', 'PhoneService', 'MultipleLines',\n",
    "                          'InternetService', 'OnlineBackup',\n",
    "                          'StreamingTV', 'StreamingMovies'])"
   ]
  },
  {
   "cell_type": "markdown",
   "id": "dbb93265",
   "metadata": {},
   "source": [
    "Ищем признаки, которые сильно коррелируют друг с другом."
   ]
  },
  {
   "cell_type": "code",
   "execution_count": 11,
   "id": "920f5a6f-424b-46a7-9545-a94fea896771",
   "metadata": {},
   "outputs": [
    {
     "data": {
      "text/plain": [
       "tenure            3\n",
       "Contract          2\n",
       "MonthlyCharges    2\n",
       "TotalCharges      3\n",
       "dtype: int64"
      ]
     },
     "execution_count": 11,
     "metadata": {},
     "output_type": "execute_result"
    }
   ],
   "source": [
    "strong_corr_threshold = 0.5\n",
    "\n",
    "corr_matrix = data.corr()\n",
    "high_corr_matrix = corr_matrix[abs(corr_matrix) >= strong_corr_threshold]\n",
    "strong_corr_features = high_corr_matrix.notna().sum()\n",
    "strong_corr_features[strong_corr_features > 1]"
   ]
  },
  {
   "cell_type": "markdown",
   "id": "bd3060d8",
   "metadata": {},
   "source": [
    "Следующие признаки сильно коррелируют другими параметрами: tenure, Contract, MonthlyCharges, TotalCharges. Построим тепловую карту и посмотрим, можно ли удалить некоторые из них."
   ]
  },
  {
   "cell_type": "code",
   "execution_count": 12,
   "id": "ad46b6fe",
   "metadata": {},
   "outputs": [
    {
     "data": {
      "image/png": "[encoded data removed]",
      "text/plain": [
       "<Figure size 1000x1000 with 2 Axes>"
      ]
     },
     "metadata": {},
     "output_type": "display_data"
    }
   ],
   "source": [
    "corr_matrix = data[['DeviceProtection', 'PaperlessBilling', 'tenure', 'Contract', 'MonthlyCharges', 'TotalCharges', 'Churn']].corr()\n",
    "plt.figure(figsize=(10, 10))\n",
    "sns.heatmap(corr_matrix, annot=True, cbar=True, linewidths=.5, fmt= '.2f')\n",
    "plt.show()"
   ]
  },
  {
   "cell_type": "markdown",
   "id": "889142f3-045b-4827-bea6-54c1c64c885b",
   "metadata": {},
   "source": [
    "Tenure сильно коррелирует со многими признаками. Было бы разумно удалить этот признак. Однако опытным путем было установлено, что лучше удалить PaperlessBilling."
   ]
  },
  {
   "cell_type": "code",
   "execution_count": 13,
   "id": "271bae4e",
   "metadata": {},
   "outputs": [],
   "source": [
    "data = data.drop(columns=['PaperlessBilling'])"
   ]
  },
  {
   "cell_type": "markdown",
   "id": "850a56ba",
   "metadata": {},
   "source": [
    "Разбиваем данные на train и test."
   ]
  },
  {
   "cell_type": "code",
   "execution_count": 14,
   "id": "7ce830cb-873f-4510-80a2-f8d19cb97a81",
   "metadata": {},
   "outputs": [],
   "source": [
    "x = data.drop(columns=['Churn'])\n",
    "y = data['Churn'].values\n",
    "\n",
    "x_train, x_test, y_train, y_test = train_test_split(x, y, test_size=0.2, random_state=123)"
   ]
  },
  {
   "cell_type": "markdown",
   "id": "209b0bcb-6c5c-466f-989f-536db65c9ef4",
   "metadata": {},
   "source": [
    "Сравним разные реализации градиентного бустинга. Пока что используем настройки по-умолчанию.\n",
    "\n",
    "Реализация sklearn."
   ]
  },
  {
   "cell_type": "code",
   "execution_count": 15,
   "id": "9aaf8d94",
   "metadata": {},
   "outputs": [
    {
     "data": {
      "text/plain": [
       "0.7070874739835253"
      ]
     },
     "execution_count": 15,
     "metadata": {},
     "output_type": "execute_result"
    }
   ],
   "source": [
    "gbm = GradientBoostingClassifier(random_state=123).fit(x_train, y_train)\n",
    "roc_auc_score(y_test, gbm.predict(x_test))"
   ]
  },
  {
   "cell_type": "markdown",
   "id": "d6806631",
   "metadata": {},
   "source": [
    "XGBoost"
   ]
  },
  {
   "cell_type": "code",
   "execution_count": 16,
   "id": "765025f6",
   "metadata": {},
   "outputs": [
    {
     "data": {
      "text/plain": [
       "0.7155080174713452"
      ]
     },
     "execution_count": 16,
     "metadata": {},
     "output_type": "execute_result"
    }
   ],
   "source": [
    "xgbc = XGBClassifier().fit(x_train, y_train)\n",
    "roc_auc_score(y_test, xgbc.predict(x_test))"
   ]
  },
  {
   "cell_type": "markdown",
   "id": "b45581ad",
   "metadata": {},
   "source": [
    "CatBoost"
   ]
  },
  {
   "cell_type": "code",
   "execution_count": 17,
   "id": "0566754a",
   "metadata": {},
   "outputs": [
    {
     "data": {
      "text/plain": [
       "0.7071461026588105"
      ]
     },
     "execution_count": 17,
     "metadata": {},
     "output_type": "execute_result"
    }
   ],
   "source": [
    "cbm = CatBoostClassifier(random_seed=123).fit(x_train, y_train, verbose=False)\n",
    "roc_auc_score(y_test, cbm.predict(x_test))"
   ]
  },
  {
   "cell_type": "markdown",
   "id": "548e61fe",
   "metadata": {},
   "source": [
    "LightGBM"
   ]
  },
  {
   "cell_type": "code",
   "execution_count": 18,
   "id": "67f14042",
   "metadata": {},
   "outputs": [
    {
     "data": {
      "text/plain": [
       "0.7129393486354175"
      ]
     },
     "execution_count": 18,
     "metadata": {},
     "output_type": "execute_result"
    }
   ],
   "source": [
    "lgbm = LGBMClassifier(random_state=123, verbose=0).fit(x_train, y_train)\n",
    "roc_auc_score(y_test, lgbm.predict(x_test))"
   ]
  },
  {
   "cell_type": "markdown",
   "id": "5badb56c",
   "metadata": {},
   "source": [
    "С настройками по-умолчанию лидирует реализация XGBoost. Хуже всех показали себя стандартная реализация от sklearn и, как ни странно, CatBoost.\n",
    "\n",
    "Теперь попробуем подобрать оптимальные параметры модели при помощи кросс-валидации.\n",
    "\n",
    "ПРИМЕЧАНИЕ: параметры подбирались итеративно и много раз менялись. По итогу в блокноте остались только лучшие параметры.\n",
    "Поэтому ниже можно встретить следующий код:\n",
    "\n",
    "param_grid = {\n",
    "    'n_estimators': [200],\n",
    "    'learning_rate': [0.065],\n",
    "    'subsample': [0.9],\n",
    "    'max_depth': [2],\n",
    "}\n",
    "\n",
    "Это лучшие параметры, которые остались после подбора."
   ]
  },
  {
   "cell_type": "code",
   "execution_count": 19,
   "id": "670d18c7",
   "metadata": {},
   "outputs": [
    {
     "name": "stdout",
     "output_type": "stream",
     "text": [
      "Best score:  0.8421669674854215\n",
      "Best params:  {'learning_rate': 0.065, 'max_depth': 2, 'n_estimators': 200, 'subsample': 0.9}\n",
      "0.7102351009878931\n"
     ]
    }
   ],
   "source": [
    "gbm = GradientBoostingClassifier(random_state=123, \n",
    "                                 max_features='sqrt',\n",
    "                                 min_samples_split=2,\n",
    "                                 min_samples_leaf=1)\n",
    "param_grid = {\n",
    "    #'n_estimators': [200, 205],\n",
    "    #'learning_rate': [0.63, 0.065, 0.67],\n",
    "    #'subsample': [0.9, 0.93, 0.95],\n",
    "    #'max_depth': [2],\n",
    "    'n_estimators': [200],\n",
    "    'learning_rate': [0.065],\n",
    "    'subsample': [0.9],\n",
    "    'max_depth': [2],\n",
    "}\n",
    "grid_search_cmb = GridSearchCV(gbm, param_grid, cv=5, scoring='roc_auc', verbose=0)\n",
    "grid_search_cmb.fit(x_train, y_train)\n",
    "\n",
    "print('Best score: ', grid_search_cmb.best_score_)\n",
    "print('Best params: ', grid_search_cmb.best_params_)\n",
    "\n",
    "print(roc_auc_score(y_test, grid_search_cmb.best_estimator_.predict(x_test)))"
   ]
  },
  {
   "cell_type": "code",
   "execution_count": 20,
   "id": "8f6300f4",
   "metadata": {},
   "outputs": [
    {
     "name": "stdout",
     "output_type": "stream",
     "text": [
      "Best score:  0.8411679970027789\n",
      "Best params:  {'learning_rate': 0.065, 'max_depth': 2, 'n_estimators': 200, 'subsample': 0.9}\n",
      "0.7148887520886466\n"
     ]
    }
   ],
   "source": [
    "xgbc = XGBClassifier(random_state=123)\n",
    "\n",
    "param_grid = {\n",
    "    'n_estimators': [200], #[190, 200, 210],\n",
    "    'learning_rate': [0.065], #[0.6, 0.065, 0.7],\n",
    "    'subsample': [0.9], #[0.85, 0.9, 0.95],\n",
    "    'max_depth': [2], #[2,3],\n",
    "}\n",
    "grid_search_cmb = GridSearchCV(xgbc, param_grid, cv=5, scoring='roc_auc', verbose=0)\n",
    "grid_search_cmb.fit(x_train, y_train)\n",
    "\n",
    "print('Best score: ', grid_search_cmb.best_score_)\n",
    "print('Best params: ', grid_search_cmb.best_params_)\n",
    "\n",
    "print(roc_auc_score(y_test, grid_search_cmb.best_estimator_.predict(x_test)))"
   ]
  },
  {
   "cell_type": "markdown",
   "id": "10c52155",
   "metadata": {},
   "source": [
    "CatBoost"
   ]
  },
  {
   "cell_type": "code",
   "execution_count": 21,
   "id": "9848f17a",
   "metadata": {},
   "outputs": [
    {
     "name": "stdout",
     "output_type": "stream",
     "text": [
      "Best score:  0.8411293853790072\n",
      "Best params:  {'learning_rate': 0.065, 'max_depth': 2, 'n_estimators': 200, 'subsample': 0.9}\n",
      "0.7190403951572715\n"
     ]
    }
   ],
   "source": [
    "\n",
    "cbm = CatBoostClassifier(random_seed=123,\n",
    "                         verbose=False)\n",
    "\n",
    "param_grid = {\n",
    "    'n_estimators': [200],\n",
    "    'learning_rate': [0.065],\n",
    "    'subsample': [0.9],\n",
    "    'max_depth': [2],\n",
    "}\n",
    "grid_search_cmb = GridSearchCV(cbm, param_grid, cv=5, scoring='roc_auc', verbose=0)\n",
    "grid_search_cmb.fit(x_train, y_train)\n",
    "\n",
    "print('Best score: ', grid_search_cmb.best_score_)\n",
    "print('Best params: ', grid_search_cmb.best_params_)\n",
    "\n",
    "print(roc_auc_score(y_test, grid_search_cmb.best_estimator_.predict(x_test)))"
   ]
  },
  {
   "cell_type": "code",
   "execution_count": 22,
   "id": "269a1f10",
   "metadata": {},
   "outputs": [
    {
     "name": "stdout",
     "output_type": "stream",
     "text": [
      "Best score:  0.8411293853790072\n",
      "Best params:  {'learning_rate': 0.065, 'max_depth': 2, 'n_estimators': 200, 'subsample': 0.9}\n",
      "0.7190403951572715\n"
     ]
    }
   ],
   "source": [
    "lgbm = LGBMClassifier(random_seed=123)\n",
    "\n",
    "param_grid = {\n",
    "    'n_estimators': [200],\n",
    "    'learning_rate': [0.065],\n",
    "    'subsample': [0.9],\n",
    "    'max_depth': [2]\n",
    "}\n",
    "grid_search_cmb = GridSearchCV(cbm, param_grid, cv=5, scoring='roc_auc', verbose=0)\n",
    "grid_search_cmb.fit(x_train, y_train)\n",
    "\n",
    "print('Best score: ', grid_search_cmb.best_score_)\n",
    "print('Best params: ', grid_search_cmb.best_params_)\n",
    "\n",
    "print(roc_auc_score(y_test, grid_search_cmb.best_estimator_.predict(x_test)))"
   ]
  },
  {
   "cell_type": "markdown",
   "id": "d47c794b",
   "metadata": {},
   "source": [
    "Теперь победили CatBoost и LightGBM с результатом ROC AUC 0.719.\n",
    "\n",
    "Выводы:\n",
    "- Все алгоритмы неплохо работают, но CatBoost и LightGBM показали немного лучший результат.\n",
    "- Результат все еще не очень хороший. Видимо EDA был проведет недостаточно качественно.\n",
    "Можно получить лучший результат удалив все признаки, кроме OnlineSecurity, TechSupport и Contract.\n",
    "В этом случае ROC AUC улучшится и составит 0.7346 для всех классификаторов. Однако в этом случае подобрать лучшие значения, чем с параметрами по-умолчанию, не получилось."
   ]
  }
 ],
 "metadata": {
  "kernelspec": {
   "display_name": "venv",
   "language": "python",
   "name": "python3"
  },
  "language_info": {
   "codemirror_mode": {
    "name": "ipython",
    "version": 3
   },
   "file_extension": ".py",
   "mimetype": "text/x-python",
   "name": "python",
   "nbconvert_exporter": "python",
   "pygments_lexer": "ipython3",
   "version": "3.9.1"
  }
 },
 "nbformat": 4,
 "nbformat_minor": 5
}
