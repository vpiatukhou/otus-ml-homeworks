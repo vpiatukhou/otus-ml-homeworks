{
 "cells": [
  {
   "cell_type": "markdown",
   "id": "5934003b-f713-462c-b7fe-d99fa5098515",
   "metadata": {},
   "source": [
    "# ДЗ №7\n",
    "\n",
    "Для запуска блокнота скачайте датасет и поместите его в директорию data.\n",
    "\n",
    "Датасет:\n",
    "https://archive.ics.uci.edu/ml/datasets/Metro+Interstate+Traffic+Volume"
   ]
  },
  {
   "cell_type": "code",
   "execution_count": 9,
   "id": "972e0cb6-4508-4b4f-8abe-19c5eef19eee",
   "metadata": {},
   "outputs": [],
   "source": [
    "%matplotlib inline\n",
    "import matplotlib.pyplot as plt\n",
    "import pandas as pd\n",
    "import numpy as np\n",
    "import warnings\n",
    "import plotly.express as px\n",
    "\n",
    "from sklearn.preprocessing import LabelEncoder\n",
    "from sklearn.metrics import mean_absolute_error, mean_squared_error\n",
    "\n",
    "from statsmodels.graphics.tsaplots import plot_acf\n",
    "from statsmodels.tsa.ar_model import AutoReg\n",
    "from statsmodels.tsa.arima.model import ARIMA\n",
    "from statsmodels.tsa.seasonal import seasonal_decompose\n",
    "from statsmodels.tsa.statespace.sarimax import SARIMAX\n",
    "\n",
    "warnings.filterwarnings(\"ignore\")\n",
    "\n",
    "pd.set_option('display.max_columns', None)\n",
    "pd.set_option('display.max_rows', None)"
   ]
  },
  {
   "cell_type": "code",
   "execution_count": 10,
   "id": "9f4beb3b",
   "metadata": {},
   "outputs": [],
   "source": [
    "_data = pd.read_csv('data/Metro_Interstate_Traffic_Volume.csv', usecols=['traffic_volume', 'date_time', 'holiday', 'temp'])"
   ]
  },
  {
   "cell_type": "markdown",
   "id": "85dc7087",
   "metadata": {},
   "source": [
    "## EDA"
   ]
  },
  {
   "cell_type": "code",
   "execution_count": 11,
   "id": "de91101d",
   "metadata": {},
   "outputs": [
    {
     "data": {
      "text/html": [
       "<div>\n",
       "<style scoped>\n",
       "    .dataframe tbody tr th:only-of-type {\n",
       "        vertical-align: middle;\n",
       "    }\n",
       "\n",
       "    .dataframe tbody tr th {\n",
       "        vertical-align: top;\n",
       "    }\n",
       "\n",
       "    .dataframe thead th {\n",
       "        text-align: right;\n",
       "    }\n",
       "</style>\n",
       "<table border=\"1\" class=\"dataframe\">\n",
       "  <thead>\n",
       "    <tr style=\"text-align: right;\">\n",
       "      <th></th>\n",
       "      <th>holiday</th>\n",
       "      <th>temp</th>\n",
       "      <th>date_time</th>\n",
       "      <th>traffic_volume</th>\n",
       "    </tr>\n",
       "  </thead>\n",
       "  <tbody>\n",
       "    <tr>\n",
       "      <th>0</th>\n",
       "      <td>NaN</td>\n",
       "      <td>288.28</td>\n",
       "      <td>2012-10-02 09:00:00</td>\n",
       "      <td>5545</td>\n",
       "    </tr>\n",
       "    <tr>\n",
       "      <th>1</th>\n",
       "      <td>NaN</td>\n",
       "      <td>289.36</td>\n",
       "      <td>2012-10-02 10:00:00</td>\n",
       "      <td>4516</td>\n",
       "    </tr>\n",
       "    <tr>\n",
       "      <th>2</th>\n",
       "      <td>NaN</td>\n",
       "      <td>289.58</td>\n",
       "      <td>2012-10-02 11:00:00</td>\n",
       "      <td>4767</td>\n",
       "    </tr>\n",
       "    <tr>\n",
       "      <th>3</th>\n",
       "      <td>NaN</td>\n",
       "      <td>290.13</td>\n",
       "      <td>2012-10-02 12:00:00</td>\n",
       "      <td>5026</td>\n",
       "    </tr>\n",
       "    <tr>\n",
       "      <th>4</th>\n",
       "      <td>NaN</td>\n",
       "      <td>291.14</td>\n",
       "      <td>2012-10-02 13:00:00</td>\n",
       "      <td>4918</td>\n",
       "    </tr>\n",
       "  </tbody>\n",
       "</table>\n",
       "</div>"
      ],
      "text/plain": [
       "  holiday    temp            date_time  traffic_volume\n",
       "0     NaN  288.28  2012-10-02 09:00:00            5545\n",
       "1     NaN  289.36  2012-10-02 10:00:00            4516\n",
       "2     NaN  289.58  2012-10-02 11:00:00            4767\n",
       "3     NaN  290.13  2012-10-02 12:00:00            5026\n",
       "4     NaN  291.14  2012-10-02 13:00:00            4918"
      ]
     },
     "execution_count": 11,
     "metadata": {},
     "output_type": "execute_result"
    }
   ],
   "source": [
    "_data.head()"
   ]
  },
  {
   "cell_type": "code",
   "execution_count": 12,
   "id": "2b58c8f8",
   "metadata": {},
   "outputs": [
    {
     "name": "stdout",
     "output_type": "stream",
     "text": [
      "<class 'pandas.core.frame.DataFrame'>\n",
      "RangeIndex: 48204 entries, 0 to 48203\n",
      "Data columns (total 4 columns):\n",
      " #   Column          Non-Null Count  Dtype  \n",
      "---  ------          --------------  -----  \n",
      " 0   holiday         61 non-null     object \n",
      " 1   temp            48204 non-null  float64\n",
      " 2   date_time       48204 non-null  object \n",
      " 3   traffic_volume  48204 non-null  int64  \n",
      "dtypes: float64(1), int64(1), object(2)\n",
      "memory usage: 1.5+ MB\n"
     ]
    }
   ],
   "source": [
    "_data.info()"
   ]
  },
  {
   "cell_type": "code",
   "execution_count": 13,
   "id": "1a203e81",
   "metadata": {},
   "outputs": [
    {
     "data": {
      "text/plain": [
       "holiday            True\n",
       "temp              False\n",
       "date_time         False\n",
       "traffic_volume    False\n",
       "dtype: bool"
      ]
     },
     "execution_count": 13,
     "metadata": {},
     "output_type": "execute_result"
    }
   ],
   "source": [
    "_data.isna().any()"
   ]
  },
  {
   "cell_type": "markdown",
   "id": "5036fae7",
   "metadata": {},
   "source": [
    "Проверяем, есть ли дубликаты."
   ]
  },
  {
   "cell_type": "code",
   "execution_count": 14,
   "id": "0c375fb4",
   "metadata": {},
   "outputs": [
    {
     "data": {
      "text/plain": [
       "True"
      ]
     },
     "execution_count": 14,
     "metadata": {},
     "output_type": "execute_result"
    }
   ],
   "source": [
    "_data['date_time'].duplicated().any()"
   ]
  },
  {
   "cell_type": "code",
   "execution_count": 15,
   "id": "cddd18ef",
   "metadata": {},
   "outputs": [
    {
     "name": "stdout",
     "output_type": "stream",
     "text": [
      "Удаление дубликатов.\n",
      "Количество записей до удаления:  48204\n",
      "Количество записей после удаления:  40575\n"
     ]
    }
   ],
   "source": [
    "print('Удаление дубликатов.')\n",
    "print('Количество записей до удаления: ', _data.shape[0])\n",
    "\n",
    "_data.drop_duplicates(subset=['date_time'], inplace=True)\n",
    "\n",
    "print('Количество записей после удаления: ', _data.shape[0])"
   ]
  },
  {
   "cell_type": "markdown",
   "id": "2b3b3cce",
   "metadata": {},
   "source": [
    "Кодируем категориальный признак. Это также позволит нам избавится от значений NaN в колонке holiday."
   ]
  },
  {
   "cell_type": "code",
   "execution_count": 16,
   "id": "a554e79e",
   "metadata": {},
   "outputs": [],
   "source": [
    "_data['holiday'] = LabelEncoder().fit_transform(_data['holiday'])"
   ]
  },
  {
   "cell_type": "markdown",
   "id": "10f3efc9",
   "metadata": {},
   "source": [
    "Выясняем тип колонки date_time."
   ]
  },
  {
   "cell_type": "code",
   "execution_count": 17,
   "id": "5277ca30",
   "metadata": {},
   "outputs": [
    {
     "data": {
      "text/plain": [
       "str"
      ]
     },
     "execution_count": 17,
     "metadata": {},
     "output_type": "execute_result"
    }
   ],
   "source": [
    "type(_data['date_time'][0])"
   ]
  },
  {
   "cell_type": "markdown",
   "id": "cb35ddfc",
   "metadata": {},
   "source": [
    "Меняем тип колонки date_time на datetime."
   ]
  },
  {
   "cell_type": "code",
   "execution_count": 18,
   "id": "624e4d33",
   "metadata": {},
   "outputs": [],
   "source": [
    "_data['date_time'] = pd.to_datetime(_data['date_time'])"
   ]
  },
  {
   "cell_type": "code",
   "execution_count": 19,
   "id": "ff991711",
   "metadata": {},
   "outputs": [
    {
     "data": {
      "text/html": [
       "<div>\n",
       "<style scoped>\n",
       "    .dataframe tbody tr th:only-of-type {\n",
       "        vertical-align: middle;\n",
       "    }\n",
       "\n",
       "    .dataframe tbody tr th {\n",
       "        vertical-align: top;\n",
       "    }\n",
       "\n",
       "    .dataframe thead th {\n",
       "        text-align: right;\n",
       "    }\n",
       "</style>\n",
       "<table border=\"1\" class=\"dataframe\">\n",
       "  <thead>\n",
       "    <tr style=\"text-align: right;\">\n",
       "      <th></th>\n",
       "      <th>holiday</th>\n",
       "      <th>temp</th>\n",
       "      <th>date_time</th>\n",
       "      <th>traffic_volume</th>\n",
       "    </tr>\n",
       "  </thead>\n",
       "  <tbody>\n",
       "    <tr>\n",
       "      <th>0</th>\n",
       "      <td>11</td>\n",
       "      <td>288.28</td>\n",
       "      <td>2012-10-02 09:00:00</td>\n",
       "      <td>5545</td>\n",
       "    </tr>\n",
       "    <tr>\n",
       "      <th>1</th>\n",
       "      <td>11</td>\n",
       "      <td>289.36</td>\n",
       "      <td>2012-10-02 10:00:00</td>\n",
       "      <td>4516</td>\n",
       "    </tr>\n",
       "    <tr>\n",
       "      <th>2</th>\n",
       "      <td>11</td>\n",
       "      <td>289.58</td>\n",
       "      <td>2012-10-02 11:00:00</td>\n",
       "      <td>4767</td>\n",
       "    </tr>\n",
       "    <tr>\n",
       "      <th>3</th>\n",
       "      <td>11</td>\n",
       "      <td>290.13</td>\n",
       "      <td>2012-10-02 12:00:00</td>\n",
       "      <td>5026</td>\n",
       "    </tr>\n",
       "    <tr>\n",
       "      <th>4</th>\n",
       "      <td>11</td>\n",
       "      <td>291.14</td>\n",
       "      <td>2012-10-02 13:00:00</td>\n",
       "      <td>4918</td>\n",
       "    </tr>\n",
       "  </tbody>\n",
       "</table>\n",
       "</div>"
      ],
      "text/plain": [
       "   holiday    temp           date_time  traffic_volume\n",
       "0       11  288.28 2012-10-02 09:00:00            5545\n",
       "1       11  289.36 2012-10-02 10:00:00            4516\n",
       "2       11  289.58 2012-10-02 11:00:00            4767\n",
       "3       11  290.13 2012-10-02 12:00:00            5026\n",
       "4       11  291.14 2012-10-02 13:00:00            4918"
      ]
     },
     "execution_count": 19,
     "metadata": {},
     "output_type": "execute_result"
    }
   ],
   "source": [
    "_data.head()"
   ]
  },
  {
   "cell_type": "markdown",
   "id": "781ccbb3",
   "metadata": {},
   "source": [
    "Значения date_time должны отстоять друг от друга на 1 час в соседних строчках. Проверим это."
   ]
  },
  {
   "cell_type": "code",
   "execution_count": 20,
   "id": "f3032643",
   "metadata": {},
   "outputs": [
    {
     "data": {
      "text/plain": [
       "<TimedeltaArray>\n",
       "[                NaT,   '0 days 01:00:00',   '0 days 02:00:00',\n",
       "   '0 days 03:00:00',   '0 days 04:00:00',   '0 days 05:00:00',\n",
       "   '0 days 08:00:00',   '0 days 09:00:00',   '0 days 07:00:00',\n",
       "   '0 days 13:00:00',   '1 days 01:00:00',   '0 days 06:00:00',\n",
       "   '0 days 14:00:00',   '1 days 23:00:00',   '1 days 06:00:00',\n",
       "   '0 days 15:00:00',   '0 days 12:00:00',   '0 days 11:00:00',\n",
       "   '0 days 22:00:00',   '1 days 00:00:00',   '0 days 17:00:00',\n",
       "   '0 days 10:00:00',  '10 days 03:00:00',   '4 days 21:00:00',\n",
       "   '0 days 21:00:00',   '2 days 17:00:00',   '1 days 09:00:00',\n",
       " '307 days 19:00:00',   '4 days 22:00:00',   '0 days 18:00:00',\n",
       "   '1 days 10:00:00',   '3 days 21:00:00']\n",
       "Length: 32, dtype: timedelta64[ns]"
      ]
     },
     "execution_count": 20,
     "metadata": {},
     "output_type": "execute_result"
    }
   ],
   "source": [
    "_data['date_time'].diff().unique()"
   ]
  },
  {
   "cell_type": "markdown",
   "id": "9df71509",
   "metadata": {},
   "source": [
    "Поправим датасет таким образом, что бы выполнялось указанное выше условие."
   ]
  },
  {
   "cell_type": "code",
   "execution_count": 21,
   "id": "fdf31d99",
   "metadata": {},
   "outputs": [],
   "source": [
    "_timestamps = pd.date_range('2012-10-02 09:00:00', '2018-09-30 23:00:00', freq='h').to_series(name='date_time')\n",
    "_data = _data.merge(_timestamps, on='date_time', how='outer')\n",
    "_data.interpolate(method='linear', inplace=True)"
   ]
  },
  {
   "cell_type": "code",
   "execution_count": 22,
   "id": "391c10d8",
   "metadata": {},
   "outputs": [
    {
     "data": {
      "text/plain": [
       "<TimedeltaArray>\n",
       "[NaT, '0 days 01:00:00']\n",
       "Length: 2, dtype: timedelta64[ns]"
      ]
     },
     "execution_count": 22,
     "metadata": {},
     "output_type": "execute_result"
    }
   ],
   "source": [
    "_data['date_time'].diff().unique()"
   ]
  },
  {
   "cell_type": "markdown",
   "id": "07b4e38a",
   "metadata": {},
   "source": [
    "## Моделирование\n",
    "\n",
    "Разделим датасет на тренировочный и тестовый."
   ]
  },
  {
   "cell_type": "code",
   "execution_count": 23,
   "id": "7d442ac0",
   "metadata": {},
   "outputs": [
    {
     "name": "stdout",
     "output_type": "stream",
     "text": [
      "Размер тренировочного датасета: 52215\n",
      "Размер тестового датасета: 336\n"
     ]
    }
   ],
   "source": [
    "_test_size = 24 * 7 * 2\n",
    "\n",
    "_train_data = _data.iloc[:_data.shape[0] - _test_size]\n",
    "_test_data = _data.iloc[-_test_size:] # последние две недели\n",
    "\n",
    "print('Размер тренировочного датасета:', _train_data.shape[0])\n",
    "print('Размер тестового датасета:', _test_data.shape[0])"
   ]
  },
  {
   "cell_type": "markdown",
   "id": "a79a0f4b",
   "metadata": {},
   "source": [
    "Объявим утилиную функцию, которую будем использовать с разными моделями."
   ]
  },
  {
   "cell_type": "code",
   "execution_count": 24,
   "id": "2186790a",
   "metadata": {},
   "outputs": [],
   "source": [
    "def make_forecast(model):\n",
    "    train_size = len(_train_data)\n",
    "\n",
    "    y_pred = model.predict(start=train_size, end=train_size + len(_test_data) - 1, dynamic=False)\n",
    "\n",
    "    y_test = _test_data['traffic_volume']\n",
    "\n",
    "    mae = mean_absolute_error(y_test, y_pred)\n",
    "    rmse = np.sqrt(mean_squared_error(y_test, y_pred))\n",
    "\n",
    "    print(f'Mean Absolute Error: {mae:.2f}');\n",
    "    print(f'Root Mean Squared Error: {rmse:.2f}')\n",
    "\n",
    "    fig = plt.figure()\n",
    "    fig.set_figheight(5)\n",
    "    fig.set_figwidth(10)\n",
    "\n",
    "    ax = fig.add_subplot()\n",
    "    n = len(y_test)\n",
    "    x = range(0, n)\n",
    "    ax.plot(x, y_test)\n",
    "    ax.plot(x, y_pred)"
   ]
  },
  {
   "cell_type": "markdown",
   "id": "70cce330",
   "metadata": {},
   "source": [
    "Визуализируем тестовые данные. Сгладим график при помощи скользящего среднего, что бы сделать его более читабельным."
   ]
  },
  {
   "cell_type": "code",
   "execution_count": 25,
   "id": "4b74a3b1",
   "metadata": {},
   "outputs": [
    {
     "data": {
      "image/png": "[encoded data removed]",
      "text/plain": [
       "<Figure size 1000x500 with 1 Axes>"
      ]
     },
     "metadata": {},
     "output_type": "display_data"
    }
   ],
   "source": [
    "def calc_moving_avg(data):\n",
    "    window_size = 30 * 24 # размер окна - 30 дней\n",
    "\n",
    "    x = data['date_time']\n",
    "    y = data['traffic_volume'].rolling(window_size).mean()\n",
    "\n",
    "    fig = plt.figure()\n",
    "    fig.set_figheight(5)\n",
    "    fig.set_figwidth(10)\n",
    "\n",
    "    ax = fig.add_subplot()\n",
    "    ax.plot(x, y)\n",
    "\n",
    "\n",
    "calc_moving_avg(_train_data)"
   ]
  },
  {
   "cell_type": "markdown",
   "id": "6c2526ff",
   "metadata": {},
   "source": [
    "[середина 2014, середина 2015] - похоже, данные за этот период отсутсвтуют.\n",
    "\n",
    "Удалим все данные до начала 2016."
   ]
  },
  {
   "cell_type": "code",
   "execution_count": 26,
   "id": "87a1b85e",
   "metadata": {},
   "outputs": [
    {
     "name": "stdout",
     "output_type": "stream",
     "text": [
      "Количество записей до удаления: 52215\n",
      "Количество записей после удаления: 23760\n"
     ]
    }
   ],
   "source": [
    "print('Количество записей до удаления:', _train_data.shape[0])\n",
    "\n",
    "_mask = _train_data['date_time'] >= pd.to_datetime('2016-01-01')\n",
    "_train_data = _train_data[_mask]\n",
    "\n",
    "print('Количество записей после удаления:',_train_data.shape[0])"
   ]
  },
  {
   "cell_type": "markdown",
   "id": "fcb7a8f8",
   "metadata": {},
   "source": [
    "Визуализируем оставшиеся данные."
   ]
  },
  {
   "cell_type": "code",
   "execution_count": 27,
   "id": "27f69ddb",
   "metadata": {},
   "outputs": [
    {
     "data": {
      "image/png": "[encoded data removed]",
      "text/plain": [
       "<Figure size 1000x500 with 1 Axes>"
      ]
     },
     "metadata": {},
     "output_type": "display_data"
    }
   ],
   "source": [
    "calc_moving_avg(_train_data)"
   ]
  },
  {
   "cell_type": "markdown",
   "metadata": {},
   "source": [
    "Исследуем последние две недели."
   ]
  },
  {
   "cell_type": "code",
   "execution_count": 28,
   "id": "d688929a",
   "metadata": {},
   "outputs": [
    {
     "data": {
      "image/png": "[encoded data removed]",
      "text/plain": [
       "<Figure size 640x480 with 4 Axes>"
      ]
     },
     "execution_count": 28,
     "metadata": {},
     "output_type": "execute_result"
    },
    {
     "data": {
      "image/png": "[encoded data removed]",
      "text/plain": [
       "<Figure size 640x480 with 4 Axes>"
      ]
     },
     "metadata": {},
     "output_type": "display_data"
    }
   ],
   "source": [
    "_last_two_weeks = _train_data['traffic_volume'][-24*7*2:]\n",
    "seasonal_decompose(x=_last_two_weeks, model='additive', period = 24*7).plot()"
   ]
  },
  {
   "cell_type": "markdown",
   "id": "af863d34",
   "metadata": {},
   "source": [
    "Наблюдается четко выраженная сезонность. Восходящий тренд. Аддитивная модель."
   ]
  },
  {
   "cell_type": "markdown",
   "id": "2ff9cd33",
   "metadata": {},
   "source": [
    "### Baseline прогноз (средние значения по часам и дням)\n",
    "\n",
    "Генерируем дополнительные признаки."
   ]
  },
  {
   "cell_type": "code",
   "execution_count": 29,
   "id": "00ac0278",
   "metadata": {},
   "outputs": [],
   "source": [
    "_train_data['hour'] = _train_data['date_time'].dt.hour\n",
    "_train_data['weekday'] = _train_data['date_time'].dt.weekday"
   ]
  },
  {
   "cell_type": "code",
   "execution_count": 30,
   "id": "223b55fe",
   "metadata": {},
   "outputs": [
    {
     "name": "stdout",
     "output_type": "stream",
     "text": [
      "Mean Absolute Error: 201.32\n",
      "Root Mean Squared Error: 297.21\n"
     ]
    },
    {
     "data": {
      "application/vnd.plotly.v1+json": {
       "config": {
        "plotlyServerURL": "https://plot.ly"
       },
       "data": [
        {
         "hovertemplate": "x=%{x}<br>y=%{y}<extra></extra>",
         "legendgroup": "",
         "line": {
          "color": "#636efa",
          "dash": "solid"
         },
         "marker": {
          "symbol": "circle"
         },
         "mode": "lines",
         "name": "",
         "orientation": "v",
         "showlegend": false,
         "type": "scatter",
         "x": [
          "2018-09-17T00:00:00",
          "2018-09-17T01:00:00",
          "2018-09-17T02:00:00",
          "2018-09-17T03:00:00",
          "2018-09-17T04:00:00",
          "2018-09-17T05:00:00",
          "2018-09-17T06:00:00",
          "2018-09-17T07:00:00",
          "2018-09-17T08:00:00",
          "2018-09-17T09:00:00",
          "2018-09-17T10:00:00",
          "2018-09-17T11:00:00",
          "2018-09-17T12:00:00",
          "2018-09-17T13:00:00",
          "2018-09-17T14:00:00",
          "2018-09-17T15:00:00",
          "2018-09-17T16:00:00",
          "2018-09-17T17:00:00",
          "2018-09-17T18:00:00",
          "2018-09-17T19:00:00",
          "2018-09-17T20:00:00",
          "2018-09-17T21:00:00",
          "2018-09-17T22:00:00",
          "2018-09-17T23:00:00",
          "2018-09-18T00:00:00",
          "2018-09-18T01:00:00",
          "2018-09-18T02:00:00",
          "2018-09-18T03:00:00",
          "2018-09-18T04:00:00",
          "2018-09-18T05:00:00",
          "2018-09-18T06:00:00",
          "2018-09-18T07:00:00",
          "2018-09-18T08:00:00",
          "2018-09-18T09:00:00",
          "2018-09-18T10:00:00",
          "2018-09-18T11:00:00",
          "2018-09-18T12:00:00",
          "2018-09-18T13:00:00",
          "2018-09-18T14:00:00",
          "2018-09-18T15:00:00",
          "2018-09-18T16:00:00",
          "2018-09-18T17:00:00",
          "2018-09-18T18:00:00",
          "2018-09-18T19:00:00",
          "2018-09-18T20:00:00",
          "2018-09-18T21:00:00",
          "2018-09-18T22:00:00",
          "2018-09-18T23:00:00",
          "2018-09-19T00:00:00",
          "2018-09-19T01:00:00",
          "2018-09-19T02:00:00",
          "2018-09-19T03:00:00",
          "2018-09-19T04:00:00",
          "2018-09-19T05:00:00",
          "2018-09-19T06:00:00",
          "2018-09-19T07:00:00",
          "2018-09-19T08:00:00",
          "2018-09-19T09:00:00",
          "2018-09-19T10:00:00",
          "2018-09-19T11:00:00",
          "2018-09-19T12:00:00",
          "2018-09-19T13:00:00",
          "2018-09-19T14:00:00",
          "2018-09-19T15:00:00",
          "2018-09-19T16:00:00",
          "2018-09-19T17:00:00",
          "2018-09-19T18:00:00",
          "2018-09-19T19:00:00",
          "2018-09-19T20:00:00",
          "2018-09-19T21:00:00",
          "2018-09-19T22:00:00",
          "2018-09-19T23:00:00",
          "2018-09-20T00:00:00",
          "2018-09-20T01:00:00",
          "2018-09-20T02:00:00",
          "2018-09-20T03:00:00",
          "2018-09-20T04:00:00",
          "2018-09-20T05:00:00",
          "2018-09-20T06:00:00",
          "2018-09-20T07:00:00",
          "2018-09-20T08:00:00",
          "2018-09-20T09:00:00",
          "2018-09-20T10:00:00",
          "2018-09-20T11:00:00",
          "2018-09-20T12:00:00",
          "2018-09-20T13:00:00",
          "2018-09-20T14:00:00",
          "2018-09-20T15:00:00",
          "2018-09-20T16:00:00",
          "2018-09-20T17:00:00",
          "2018-09-20T18:00:00",
          "2018-09-20T19:00:00",
          "2018-09-20T20:00:00",
          "2018-09-20T21:00:00",
          "2018-09-20T22:00:00",
          "2018-09-20T23:00:00",
          "2018-09-21T00:00:00",
          "2018-09-21T01:00:00",
          "2018-09-21T02:00:00",
          "2018-09-21T03:00:00",
          "2018-09-21T04:00:00",
          "2018-09-21T05:00:00",
          "2018-09-21T06:00:00",
          "2018-09-21T07:00:00",
          "2018-09-21T08:00:00",
          "2018-09-21T09:00:00",
          "2018-09-21T10:00:00",
          "2018-09-21T11:00:00",
          "2018-09-21T12:00:00",
          "2018-09-21T13:00:00",
          "2018-09-21T14:00:00",
          "2018-09-21T15:00:00",
          "2018-09-21T16:00:00",
          "2018-09-21T17:00:00",
          "2018-09-21T18:00:00",
          "2018-09-21T19:00:00",
          "2018-09-21T20:00:00",
          "2018-09-21T21:00:00",
          "2018-09-21T22:00:00",
          "2018-09-21T23:00:00",
          "2018-09-22T00:00:00",
          "2018-09-22T01:00:00",
          "2018-09-22T02:00:00",
          "2018-09-22T03:00:00",
          "2018-09-22T04:00:00",
          "2018-09-22T05:00:00",
          "2018-09-22T06:00:00",
          "2018-09-22T07:00:00",
          "2018-09-22T08:00:00",
          "2018-09-22T09:00:00",
          "2018-09-22T10:00:00",
          "2018-09-22T11:00:00",
          "2018-09-22T12:00:00",
          "2018-09-22T13:00:00",
          "2018-09-22T14:00:00",
          "2018-09-22T15:00:00",
          "2018-09-22T16:00:00",
          "2018-09-22T17:00:00",
          "2018-09-22T18:00:00",
          "2018-09-22T19:00:00",
          "2018-09-22T20:00:00",
          "2018-09-22T21:00:00",
          "2018-09-22T22:00:00",
          "2018-09-22T23:00:00",
          "2018-09-23T00:00:00",
          "2018-09-23T01:00:00",
          "2018-09-23T02:00:00",
          "2018-09-23T03:00:00",
          "2018-09-23T04:00:00",
          "2018-09-23T05:00:00",
          "2018-09-23T06:00:00",
          "2018-09-23T07:00:00",
          "2018-09-23T08:00:00",
          "2018-09-23T09:00:00",
          "2018-09-23T10:00:00",
          "2018-09-23T11:00:00",
          "2018-09-23T12:00:00",
          "2018-09-23T13:00:00",
          "2018-09-23T14:00:00",
          "2018-09-23T15:00:00",
          "2018-09-23T16:00:00",
          "2018-09-23T17:00:00",
          "2018-09-23T18:00:00",
          "2018-09-23T19:00:00",
          "2018-09-23T20:00:00",
          "2018-09-23T21:00:00",
          "2018-09-23T22:00:00",
          "2018-09-23T23:00:00",
          "2018-09-24T00:00:00",
          "2018-09-24T01:00:00",
          "2018-09-24T02:00:00",
          "2018-09-24T03:00:00",
          "2018-09-24T04:00:00",
          "2018-09-24T05:00:00",
          "2018-09-24T06:00:00",
          "2018-09-24T07:00:00",
          "2018-09-24T08:00:00",
          "2018-09-24T09:00:00",
          "2018-09-24T10:00:00",
          "2018-09-24T11:00:00",
          "2018-09-24T12:00:00",
          "2018-09-24T13:00:00",
          "2018-09-24T14:00:00",
          "2018-09-24T15:00:00",
          "2018-09-24T16:00:00",
          "2018-09-24T17:00:00",
          "2018-09-24T18:00:00",
          "2018-09-24T19:00:00",
          "2018-09-24T20:00:00",
          "2018-09-24T21:00:00",
          "2018-09-24T22:00:00",
          "2018-09-24T23:00:00",
          "2018-09-25T00:00:00",
          "2018-09-25T01:00:00",
          "2018-09-25T02:00:00",
          "2018-09-25T03:00:00",
          "2018-09-25T04:00:00",
          "2018-09-25T05:00:00",
          "2018-09-25T06:00:00",
          "2018-09-25T07:00:00",
          "2018-09-25T08:00:00",
          "2018-09-25T09:00:00",
          "2018-09-25T10:00:00",
          "2018-09-25T11:00:00",
          "2018-09-25T12:00:00",
          "2018-09-25T13:00:00",
          "2018-09-25T14:00:00",
          "2018-09-25T15:00:00",
          "2018-09-25T16:00:00",
          "2018-09-25T17:00:00",
          "2018-09-25T18:00:00",
          "2018-09-25T19:00:00",
          "2018-09-25T20:00:00",
          "2018-09-25T21:00:00",
          "2018-09-25T22:00:00",
          "2018-09-25T23:00:00",
          "2018-09-26T00:00:00",
          "2018-09-26T01:00:00",
          "2018-09-26T02:00:00",
          "2018-09-26T03:00:00",
          "2018-09-26T04:00:00",
          "2018-09-26T05:00:00",
          "2018-09-26T06:00:00",
          "2018-09-26T07:00:00",
          "2018-09-26T08:00:00",
          "2018-09-26T09:00:00",
          "2018-09-26T10:00:00",
          "2018-09-26T11:00:00",
          "2018-09-26T12:00:00",
          "2018-09-26T13:00:00",
          "2018-09-26T14:00:00",
          "2018-09-26T15:00:00",
          "2018-09-26T16:00:00",
          "2018-09-26T17:00:00",
          "2018-09-26T18:00:00",
          "2018-09-26T19:00:00",
          "2018-09-26T20:00:00",
          "2018-09-26T21:00:00",
          "2018-09-26T22:00:00",
          "2018-09-26T23:00:00",
          "2018-09-27T00:00:00",
          "2018-09-27T01:00:00",
          "2018-09-27T02:00:00",
          "2018-09-27T03:00:00",
          "2018-09-27T04:00:00",
          "2018-09-27T05:00:00",
          "2018-09-27T06:00:00",
          "2018-09-27T07:00:00",
          "2018-09-27T08:00:00",
          "2018-09-27T09:00:00",
          "2018-09-27T10:00:00",
          "2018-09-27T11:00:00",
          "2018-09-27T12:00:00",
          "2018-09-27T13:00:00",
          "2018-09-27T14:00:00",
          "2018-09-27T15:00:00",
          "2018-09-27T16:00:00",
          "2018-09-27T17:00:00",
          "2018-09-27T18:00:00",
          "2018-09-27T19:00:00",
          "2018-09-27T20:00:00",
          "2018-09-27T21:00:00",
          "2018-09-27T22:00:00",
          "2018-09-27T23:00:00",
          "2018-09-28T00:00:00",
          "2018-09-28T01:00:00",
          "2018-09-28T02:00:00",
          "2018-09-28T03:00:00",
          "2018-09-28T04:00:00",
          "2018-09-28T05:00:00",
          "2018-09-28T06:00:00",
          "2018-09-28T07:00:00",
          "2018-09-28T08:00:00",
          "2018-09-28T09:00:00",
          "2018-09-28T10:00:00",
          "2018-09-28T11:00:00",
          "2018-09-28T12:00:00",
          "2018-09-28T13:00:00",
          "2018-09-28T14:00:00",
          "2018-09-28T15:00:00",
          "2018-09-28T16:00:00",
          "2018-09-28T17:00:00",
          "2018-09-28T18:00:00",
          "2018-09-28T19:00:00",
          "2018-09-28T20:00:00",
          "2018-09-28T21:00:00",
          "2018-09-28T22:00:00",
          "2018-09-28T23:00:00",
          "2018-09-29T00:00:00",
          "2018-09-29T01:00:00",
          "2018-09-29T02:00:00",
          "2018-09-29T03:00:00",
          "2018-09-29T04:00:00",
          "2018-09-29T05:00:00",
          "2018-09-29T06:00:00",
          "2018-09-29T07:00:00",
          "2018-09-29T08:00:00",
          "2018-09-29T09:00:00",
          "2018-09-29T10:00:00",
          "2018-09-29T11:00:00",
          "2018-09-29T12:00:00",
          "2018-09-29T13:00:00",
          "2018-09-29T14:00:00",
          "2018-09-29T15:00:00",
          "2018-09-29T16:00:00",
          "2018-09-29T17:00:00",
          "2018-09-29T18:00:00",
          "2018-09-29T19:00:00",
          "2018-09-29T20:00:00",
          "2018-09-29T21:00:00",
          "2018-09-29T22:00:00",
          "2018-09-29T23:00:00",
          "2018-09-30T00:00:00",
          "2018-09-30T01:00:00",
          "2018-09-30T02:00:00",
          "2018-09-30T03:00:00",
          "2018-09-30T04:00:00",
          "2018-09-30T05:00:00",
          "2018-09-30T06:00:00",
          "2018-09-30T07:00:00",
          "2018-09-30T08:00:00",
          "2018-09-30T09:00:00",
          "2018-09-30T10:00:00",
          "2018-09-30T11:00:00",
          "2018-09-30T12:00:00",
          "2018-09-30T13:00:00",
          "2018-09-30T14:00:00",
          "2018-09-30T15:00:00",
          "2018-09-30T16:00:00",
          "2018-09-30T17:00:00",
          "2018-09-30T18:00:00",
          "2018-09-30T19:00:00",
          "2018-09-30T20:00:00",
          "2018-09-30T21:00:00",
          "2018-09-30T22:00:00",
          "2018-09-30T23:00:00"
         ],
         "xaxis": "x",
         "y": [
          550,
          280,
          260,
          344,
          880,
          2965,
          5667,
          6533,
          6070,
          5145,
          4201,
          4371,
          4533,
          4680,
          4930,
          5327,
          6354,
          5412,
          4000,
          2897,
          2466,
          2090,
          1434,
          869,
          536,
          351,
          227,
          340,
          858,
          3027,
          5642,
          6516,
          5873,
          5123,
          4527,
          4593,
          4725,
          4737,
          4931,
          5623,
          6623,
          5916,
          4423,
          3309,
          2805,
          2400,
          2631,
          1501,
          617,
          401,
          282,
          358,
          913,
          3074,
          5803,
          6510,
          6101,
          5331,
          4266,
          4567,
          4734,
          4675,
          4980,
          5718,
          6382,
          5647,
          4469,
          3460,
          2865,
          2576,
          1693,
          994,
          583,
          349,
          265,
          344,
          914,
          2924,
          5417,
          5766,
          5331,
          5264,
          4326,
          4592,
          4695,
          4459,
          4517,
          5257,
          6331,
          5065,
          3898,
          2957,
          2740,
          3497,
          2356,
          1633,
          698,
          407,
          304,
          377,
          867,
          2919,
          5457,
          6539,
          5653,
          4981,
          4548,
          4937,
          5039,
          4901,
          5185,
          5973,
          6007,
          5489,
          4607,
          3958,
          3255,
          2931,
          2570,
          2179,
          1516,
          1273,
          1207,
          611,
          647,
          960,
          1635,
          2445,
          3415,
          3770,
          4308,
          4638,
          4831,
          4565,
          4654,
          4589,
          4582,
          4847,
          4620,
          4347,
          3602,
          2985,
          2480,
          1871,
          1249,
          690,
          565,
          319,
          339,
          514,
          910,
          1402,
          2203,
          3562,
          4594,
          4252,
          3945,
          4107,
          4091,
          4195,
          4413,
          4117,
          3997,
          3516,
          2846,
          2346,
          1635,
          934,
          509,
          344,
          219,
          328,
          888,
          2954,
          5747,
          6591,
          5900,
          4936,
          4351,
          4468,
          4531,
          4433,
          4816,
          5443,
          6307,
          5562,
          4167,
          3253,
          2559,
          2084,
          1392,
          826,
          527,
          302,
          234,
          366,
          880,
          3063,
          5833,
          6568,
          6080,
          5083,
          4385,
          4458,
          4580,
          4716,
          4973,
          5748,
          6597,
          5734,
          4320,
          3058,
          2765,
          2282,
          1571,
          924,
          543,
          358,
          227,
          358,
          890,
          3052,
          5930,
          6193,
          6032,
          5320,
          4523,
          4721,
          4793,
          4624,
          4928,
          5693,
          6334,
          5954,
          4661,
          3639,
          3197,
          3475,
          1973,
          1209,
          654,
          421,
          312,
          373,
          919,
          3002,
          5685,
          6589,
          5946,
          5181,
          4500,
          4670,
          4849,
          4787,
          4943,
          5892,
          6451,
          5968,
          4498,
          3419,
          2856,
          2649,
          2003,
          1278,
          699,
          461,
          301,
          367,
          870,
          2751,
          5521,
          6401,
          5798,
          4791,
          4574,
          4863,
          5066,
          4898,
          5193,
          5838,
          6188,
          5695,
          5104,
          4286,
          3538,
          3058,
          2713,
          3544,
          1733,
          867,
          524,
          359,
          425,
          743,
          1359,
          2036,
          3073,
          3725,
          4059,
          4378,
          4657,
          4553,
          4618,
          4564,
          4735,
          4878,
          4569,
          3818,
          3338,
          2950,
          2607,
          3856,
          1826,
          920,
          696,
          364,
          335,
          444,
          802,
          1175,
          2002,
          2882,
          3701,
          4049,
          4429,
          4547,
          4380,
          4302,
          4283,
          4132,
          3947,
          3543,
          2781,
          2159,
          1450,
          954
         ],
         "yaxis": "y"
        },
        {
         "mode": "lines",
         "name": "Baseline",
         "type": "scatter",
         "x": [
          "2018-09-17T00:00:00",
          "2018-09-17T01:00:00",
          "2018-09-17T02:00:00",
          "2018-09-17T03:00:00",
          "2018-09-17T04:00:00",
          "2018-09-17T05:00:00",
          "2018-09-17T06:00:00",
          "2018-09-17T07:00:00",
          "2018-09-17T08:00:00",
          "2018-09-17T09:00:00",
          "2018-09-17T10:00:00",
          "2018-09-17T11:00:00",
          "2018-09-17T12:00:00",
          "2018-09-17T13:00:00",
          "2018-09-17T14:00:00",
          "2018-09-17T15:00:00",
          "2018-09-17T16:00:00",
          "2018-09-17T17:00:00",
          "2018-09-17T18:00:00",
          "2018-09-17T19:00:00",
          "2018-09-17T20:00:00",
          "2018-09-17T21:00:00",
          "2018-09-17T22:00:00",
          "2018-09-17T23:00:00",
          "2018-09-18T00:00:00",
          "2018-09-18T01:00:00",
          "2018-09-18T02:00:00",
          "2018-09-18T03:00:00",
          "2018-09-18T04:00:00",
          "2018-09-18T05:00:00",
          "2018-09-18T06:00:00",
          "2018-09-18T07:00:00",
          "2018-09-18T08:00:00",
          "2018-09-18T09:00:00",
          "2018-09-18T10:00:00",
          "2018-09-18T11:00:00",
          "2018-09-18T12:00:00",
          "2018-09-18T13:00:00",
          "2018-09-18T14:00:00",
          "2018-09-18T15:00:00",
          "2018-09-18T16:00:00",
          "2018-09-18T17:00:00",
          "2018-09-18T18:00:00",
          "2018-09-18T19:00:00",
          "2018-09-18T20:00:00",
          "2018-09-18T21:00:00",
          "2018-09-18T22:00:00",
          "2018-09-18T23:00:00",
          "2018-09-19T00:00:00",
          "2018-09-19T01:00:00",
          "2018-09-19T02:00:00",
          "2018-09-19T03:00:00",
          "2018-09-19T04:00:00",
          "2018-09-19T05:00:00",
          "2018-09-19T06:00:00",
          "2018-09-19T07:00:00",
          "2018-09-19T08:00:00",
          "2018-09-19T09:00:00",
          "2018-09-19T10:00:00",
          "2018-09-19T11:00:00",
          "2018-09-19T12:00:00",
          "2018-09-19T13:00:00",
          "2018-09-19T14:00:00",
          "2018-09-19T15:00:00",
          "2018-09-19T16:00:00",
          "2018-09-19T17:00:00",
          "2018-09-19T18:00:00",
          "2018-09-19T19:00:00",
          "2018-09-19T20:00:00",
          "2018-09-19T21:00:00",
          "2018-09-19T22:00:00",
          "2018-09-19T23:00:00",
          "2018-09-20T00:00:00",
          "2018-09-20T01:00:00",
          "2018-09-20T02:00:00",
          "2018-09-20T03:00:00",
          "2018-09-20T04:00:00",
          "2018-09-20T05:00:00",
          "2018-09-20T06:00:00",
          "2018-09-20T07:00:00",
          "2018-09-20T08:00:00",
          "2018-09-20T09:00:00",
          "2018-09-20T10:00:00",
          "2018-09-20T11:00:00",
          "2018-09-20T12:00:00",
          "2018-09-20T13:00:00",
          "2018-09-20T14:00:00",
          "2018-09-20T15:00:00",
          "2018-09-20T16:00:00",
          "2018-09-20T17:00:00",
          "2018-09-20T18:00:00",
          "2018-09-20T19:00:00",
          "2018-09-20T20:00:00",
          "2018-09-20T21:00:00",
          "2018-09-20T22:00:00",
          "2018-09-20T23:00:00",
          "2018-09-21T00:00:00",
          "2018-09-21T01:00:00",
          "2018-09-21T02:00:00",
          "2018-09-21T03:00:00",
          "2018-09-21T04:00:00",
          "2018-09-21T05:00:00",
          "2018-09-21T06:00:00",
          "2018-09-21T07:00:00",
          "2018-09-21T08:00:00",
          "2018-09-21T09:00:00",
          "2018-09-21T10:00:00",
          "2018-09-21T11:00:00",
          "2018-09-21T12:00:00",
          "2018-09-21T13:00:00",
          "2018-09-21T14:00:00",
          "2018-09-21T15:00:00",
          "2018-09-21T16:00:00",
          "2018-09-21T17:00:00",
          "2018-09-21T18:00:00",
          "2018-09-21T19:00:00",
          "2018-09-21T20:00:00",
          "2018-09-21T21:00:00",
          "2018-09-21T22:00:00",
          "2018-09-21T23:00:00",
          "2018-09-22T00:00:00",
          "2018-09-22T01:00:00",
          "2018-09-22T02:00:00",
          "2018-09-22T03:00:00",
          "2018-09-22T04:00:00",
          "2018-09-22T05:00:00",
          "2018-09-22T06:00:00",
          "2018-09-22T07:00:00",
          "2018-09-22T08:00:00",
          "2018-09-22T09:00:00",
          "2018-09-22T10:00:00",
          "2018-09-22T11:00:00",
          "2018-09-22T12:00:00",
          "2018-09-22T13:00:00",
          "2018-09-22T14:00:00",
          "2018-09-22T15:00:00",
          "2018-09-22T16:00:00",
          "2018-09-22T17:00:00",
          "2018-09-22T18:00:00",
          "2018-09-22T19:00:00",
          "2018-09-22T20:00:00",
          "2018-09-22T21:00:00",
          "2018-09-22T22:00:00",
          "2018-09-22T23:00:00",
          "2018-09-23T00:00:00",
          "2018-09-23T01:00:00",
          "2018-09-23T02:00:00",
          "2018-09-23T03:00:00",
          "2018-09-23T04:00:00",
          "2018-09-23T05:00:00",
          "2018-09-23T06:00:00",
          "2018-09-23T07:00:00",
          "2018-09-23T08:00:00",
          "2018-09-23T09:00:00",
          "2018-09-23T10:00:00",
          "2018-09-23T11:00:00",
          "2018-09-23T12:00:00",
          "2018-09-23T13:00:00",
          "2018-09-23T14:00:00",
          "2018-09-23T15:00:00",
          "2018-09-23T16:00:00",
          "2018-09-23T17:00:00",
          "2018-09-23T18:00:00",
          "2018-09-23T19:00:00",
          "2018-09-23T20:00:00",
          "2018-09-23T21:00:00",
          "2018-09-23T22:00:00",
          "2018-09-23T23:00:00",
          "2018-09-24T00:00:00",
          "2018-09-24T01:00:00",
          "2018-09-24T02:00:00",
          "2018-09-24T03:00:00",
          "2018-09-24T04:00:00",
          "2018-09-24T05:00:00",
          "2018-09-24T06:00:00",
          "2018-09-24T07:00:00",
          "2018-09-24T08:00:00",
          "2018-09-24T09:00:00",
          "2018-09-24T10:00:00",
          "2018-09-24T11:00:00",
          "2018-09-24T12:00:00",
          "2018-09-24T13:00:00",
          "2018-09-24T14:00:00",
          "2018-09-24T15:00:00",
          "2018-09-24T16:00:00",
          "2018-09-24T17:00:00",
          "2018-09-24T18:00:00",
          "2018-09-24T19:00:00",
          "2018-09-24T20:00:00",
          "2018-09-24T21:00:00",
          "2018-09-24T22:00:00",
          "2018-09-24T23:00:00",
          "2018-09-25T00:00:00",
          "2018-09-25T01:00:00",
          "2018-09-25T02:00:00",
          "2018-09-25T03:00:00",
          "2018-09-25T04:00:00",
          "2018-09-25T05:00:00",
          "2018-09-25T06:00:00",
          "2018-09-25T07:00:00",
          "2018-09-25T08:00:00",
          "2018-09-25T09:00:00",
          "2018-09-25T10:00:00",
          "2018-09-25T11:00:00",
          "2018-09-25T12:00:00",
          "2018-09-25T13:00:00",
          "2018-09-25T14:00:00",
          "2018-09-25T15:00:00",
          "2018-09-25T16:00:00",
          "2018-09-25T17:00:00",
          "2018-09-25T18:00:00",
          "2018-09-25T19:00:00",
          "2018-09-25T20:00:00",
          "2018-09-25T21:00:00",
          "2018-09-25T22:00:00",
          "2018-09-25T23:00:00",
          "2018-09-26T00:00:00",
          "2018-09-26T01:00:00",
          "2018-09-26T02:00:00",
          "2018-09-26T03:00:00",
          "2018-09-26T04:00:00",
          "2018-09-26T05:00:00",
          "2018-09-26T06:00:00",
          "2018-09-26T07:00:00",
          "2018-09-26T08:00:00",
          "2018-09-26T09:00:00",
          "2018-09-26T10:00:00",
          "2018-09-26T11:00:00",
          "2018-09-26T12:00:00",
          "2018-09-26T13:00:00",
          "2018-09-26T14:00:00",
          "2018-09-26T15:00:00",
          "2018-09-26T16:00:00",
          "2018-09-26T17:00:00",
          "2018-09-26T18:00:00",
          "2018-09-26T19:00:00",
          "2018-09-26T20:00:00",
          "2018-09-26T21:00:00",
          "2018-09-26T22:00:00",
          "2018-09-26T23:00:00",
          "2018-09-27T00:00:00",
          "2018-09-27T01:00:00",
          "2018-09-27T02:00:00",
          "2018-09-27T03:00:00",
          "2018-09-27T04:00:00",
          "2018-09-27T05:00:00",
          "2018-09-27T06:00:00",
          "2018-09-27T07:00:00",
          "2018-09-27T08:00:00",
          "2018-09-27T09:00:00",
          "2018-09-27T10:00:00",
          "2018-09-27T11:00:00",
          "2018-09-27T12:00:00",
          "2018-09-27T13:00:00",
          "2018-09-27T14:00:00",
          "2018-09-27T15:00:00",
          "2018-09-27T16:00:00",
          "2018-09-27T17:00:00",
          "2018-09-27T18:00:00",
          "2018-09-27T19:00:00",
          "2018-09-27T20:00:00",
          "2018-09-27T21:00:00",
          "2018-09-27T22:00:00",
          "2018-09-27T23:00:00",
          "2018-09-28T00:00:00",
          "2018-09-28T01:00:00",
          "2018-09-28T02:00:00",
          "2018-09-28T03:00:00",
          "2018-09-28T04:00:00",
          "2018-09-28T05:00:00",
          "2018-09-28T06:00:00",
          "2018-09-28T07:00:00",
          "2018-09-28T08:00:00",
          "2018-09-28T09:00:00",
          "2018-09-28T10:00:00",
          "2018-09-28T11:00:00",
          "2018-09-28T12:00:00",
          "2018-09-28T13:00:00",
          "2018-09-28T14:00:00",
          "2018-09-28T15:00:00",
          "2018-09-28T16:00:00",
          "2018-09-28T17:00:00",
          "2018-09-28T18:00:00",
          "2018-09-28T19:00:00",
          "2018-09-28T20:00:00",
          "2018-09-28T21:00:00",
          "2018-09-28T22:00:00",
          "2018-09-28T23:00:00",
          "2018-09-29T00:00:00",
          "2018-09-29T01:00:00",
          "2018-09-29T02:00:00",
          "2018-09-29T03:00:00",
          "2018-09-29T04:00:00",
          "2018-09-29T05:00:00",
          "2018-09-29T06:00:00",
          "2018-09-29T07:00:00",
          "2018-09-29T08:00:00",
          "2018-09-29T09:00:00",
          "2018-09-29T10:00:00",
          "2018-09-29T11:00:00",
          "2018-09-29T12:00:00",
          "2018-09-29T13:00:00",
          "2018-09-29T14:00:00",
          "2018-09-29T15:00:00",
          "2018-09-29T16:00:00",
          "2018-09-29T17:00:00",
          "2018-09-29T18:00:00",
          "2018-09-29T19:00:00",
          "2018-09-29T20:00:00",
          "2018-09-29T21:00:00",
          "2018-09-29T22:00:00",
          "2018-09-29T23:00:00",
          "2018-09-30T00:00:00",
          "2018-09-30T01:00:00",
          "2018-09-30T02:00:00",
          "2018-09-30T03:00:00",
          "2018-09-30T04:00:00",
          "2018-09-30T05:00:00",
          "2018-09-30T06:00:00",
          "2018-09-30T07:00:00",
          "2018-09-30T08:00:00",
          "2018-09-30T09:00:00",
          "2018-09-30T10:00:00",
          "2018-09-30T11:00:00",
          "2018-09-30T12:00:00",
          "2018-09-30T13:00:00",
          "2018-09-30T14:00:00",
          "2018-09-30T15:00:00",
          "2018-09-30T16:00:00",
          "2018-09-30T17:00:00",
          "2018-09-30T18:00:00",
          "2018-09-30T19:00:00",
          "2018-09-30T20:00:00",
          "2018-09-30T21:00:00",
          "2018-09-30T22:00:00",
          "2018-09-30T23:00:00"
         ],
         "y": [
          653.7730496453901,
          406.3085106382979,
          307.75531914893617,
          369.20567375886526,
          856.5791962174941,
          2611.7434988179666,
          5065.069739952719,
          5727.841607565011,
          5219.184397163121,
          4525.886524822695,
          4093.77304964539,
          4289.95744680851,
          4504.340425531915,
          4525.241134751773,
          4802.95744680851,
          5271.5390070921985,
          5945.116312056738,
          5509.760992907802,
          4114.671631205673,
          3020.376595744681,
          2542.8333333333335,
          2236.6198581560284,
          1710.2609929078014,
          1113.1468085106385,
          619.6212765957447,
          375.66312056737587,
          286.8014184397163,
          367.43009118541033,
          892.4772036474163,
          2869.715805471125,
          5509.71327254306,
          6074.77811550152,
          5588.772036474164,
          4983.854609929078,
          4351.423167848699,
          4520.576832151301,
          4732.68085106383,
          4755.016548463357,
          5036.09219858156,
          5580.2511820330965,
          6347.86524822695,
          5872.601063829788,
          4396.418439716312,
          3212.001182033097,
          2794.6832151300237,
          2664.9940898345153,
          2091.1867612293145,
          1205.6666666666667,
          636.6063829787234,
          399,
          316.09929078014187,
          387.4255319148936,
          921.9822695035461,
          2890.8120567375886,
          5528.991725768322,
          6130.430260047281,
          5711.0874704491725,
          5089.791962174941,
          4470.556737588652,
          4670.04255319149,
          4829.459810874705,
          4833.430260047281,
          5130.249408983451,
          5613.222222222223,
          6434.099290780142,
          5991.968085106383,
          4551.827423167849,
          3359.490543735225,
          2905.692671394799,
          2568.3486997635937,
          1912.516548463357,
          1275.0531914893618,
          679.6950354609929,
          401.48581560283685,
          310.8729314420804,
          395.24497635933807,
          931.3475177304964,
          2833.2018321513,
          5486.445626477542,
          6193.111406619386,
          5654.608156028369,
          5070.08244680851,
          4543.067375886525,
          4769.024822695035,
          4927.641843971631,
          4958.147163120568,
          5233.91134751773,
          5743.725177304965,
          6434.315602836879,
          5977.067375886525,
          4633.586288416075,
          3507.4940898345153,
          3075.8593380614657,
          2965.4302600472815,
          2387.9243498817964,
          1431.0815602836878,
          776.8838028169014,
          472.0504694835681,
          359.9107981220657,
          396.8767605633803,
          862.75,
          2657.6725352112676,
          5176.816901408451,
          6057.119718309859,
          5379.158450704225,
          4847.612676056338,
          4605.489436619719,
          4925.968309859155,
          5166.281690140845,
          5138.031690140845,
          5370.848591549296,
          5748.841549295775,
          6098.207746478874,
          5524.549295774648,
          4660.911971830986,
          3677.1478873239435,
          3103.271126760563,
          3027.580985915493,
          2743.2323943661972,
          2007.7323943661972,
          1298.943661971831,
          803.2922535211268,
          619.8722334004025,
          440.4404761904762,
          459.7023809523809,
          783.5335345405769,
          1348.5102280348758,
          1966.025653923541,
          2835.963615023474,
          3554.3708920187796,
          4016.3838028169016,
          4404.294600938967,
          4678.223004694835,
          4617.661971830986,
          4609.355633802817,
          4554.147887323944,
          4531.7593896713615,
          4392.976525821596,
          4084.2464788732395,
          3456.1302816901407,
          3055.181338028169,
          3068.8661971830984,
          2993.18720657277,
          2231.944835680751,
          1436.06220657277,
          898.575117370892,
          658.5234741784037,
          410.7476525821596,
          376.5387323943662,
          559.343661971831,
          959.5147887323944,
          1325.2352112676056,
          1992.9661971830988,
          2792.231220657277,
          3512.7723004694835,
          3873.94131455399,
          4194.769953051644,
          4269.413145539906,
          4277.843896713615,
          4269.56220657277,
          4288.5739436619715,
          4093.676056338028,
          3681.0845070422533,
          3165.87441314554,
          2803.3028169014083,
          2379.3380281690143,
          1836.2640845070423,
          1243.7007042253522,
          653.7730496453901,
          406.3085106382979,
          307.75531914893617,
          369.20567375886526,
          856.5791962174941,
          2611.7434988179666,
          5065.069739952719,
          5727.841607565011,
          5219.184397163121,
          4525.886524822695,
          4093.77304964539,
          4289.95744680851,
          4504.340425531915,
          4525.241134751773,
          4802.95744680851,
          5271.5390070921985,
          5945.116312056738,
          5509.760992907802,
          4114.671631205673,
          3020.376595744681,
          2542.8333333333335,
          2236.6198581560284,
          1710.2609929078014,
          1113.1468085106385,
          619.6212765957447,
          375.66312056737587,
          286.8014184397163,
          367.43009118541033,
          892.4772036474163,
          2869.715805471125,
          5509.71327254306,
          6074.77811550152,
          5588.772036474164,
          4983.854609929078,
          4351.423167848699,
          4520.576832151301,
          4732.68085106383,
          4755.016548463357,
          5036.09219858156,
          5580.2511820330965,
          6347.86524822695,
          5872.601063829788,
          4396.418439716312,
          3212.001182033097,
          2794.6832151300237,
          2664.9940898345153,
          2091.1867612293145,
          1205.6666666666667,
          636.6063829787234,
          399,
          316.09929078014187,
          387.4255319148936,
          921.9822695035461,
          2890.8120567375886,
          5528.991725768322,
          6130.430260047281,
          5711.0874704491725,
          5089.791962174941,
          4470.556737588652,
          4670.04255319149,
          4829.459810874705,
          4833.430260047281,
          5130.249408983451,
          5613.222222222223,
          6434.099290780142,
          5991.968085106383,
          4551.827423167849,
          3359.490543735225,
          2905.692671394799,
          2568.3486997635937,
          1912.516548463357,
          1275.0531914893618,
          679.6950354609929,
          401.48581560283685,
          310.8729314420804,
          395.24497635933807,
          931.3475177304964,
          2833.2018321513,
          5486.445626477542,
          6193.111406619386,
          5654.608156028369,
          5070.08244680851,
          4543.067375886525,
          4769.024822695035,
          4927.641843971631,
          4958.147163120568,
          5233.91134751773,
          5743.725177304965,
          6434.315602836879,
          5977.067375886525,
          4633.586288416075,
          3507.4940898345153,
          3075.8593380614657,
          2965.4302600472815,
          2387.9243498817964,
          1431.0815602836878,
          776.8838028169014,
          472.0504694835681,
          359.9107981220657,
          396.8767605633803,
          862.75,
          2657.6725352112676,
          5176.816901408451,
          6057.119718309859,
          5379.158450704225,
          4847.612676056338,
          4605.489436619719,
          4925.968309859155,
          5166.281690140845,
          5138.031690140845,
          5370.848591549296,
          5748.841549295775,
          6098.207746478874,
          5524.549295774648,
          4660.911971830986,
          3677.1478873239435,
          3103.271126760563,
          3027.580985915493,
          2743.2323943661972,
          2007.7323943661972,
          1298.943661971831,
          803.2922535211268,
          619.8722334004025,
          440.4404761904762,
          459.7023809523809,
          783.5335345405769,
          1348.5102280348758,
          1966.025653923541,
          2835.963615023474,
          3554.3708920187796,
          4016.3838028169016,
          4404.294600938967,
          4678.223004694835,
          4617.661971830986,
          4609.355633802817,
          4554.147887323944,
          4531.7593896713615,
          4392.976525821596,
          4084.2464788732395,
          3456.1302816901407,
          3055.181338028169,
          3068.8661971830984,
          2993.18720657277,
          2231.944835680751,
          1436.06220657277,
          898.575117370892,
          658.5234741784037,
          410.7476525821596,
          376.5387323943662,
          559.343661971831,
          959.5147887323944,
          1325.2352112676056,
          1992.9661971830988,
          2792.231220657277,
          3512.7723004694835,
          3873.94131455399,
          4194.769953051644,
          4269.413145539906,
          4277.843896713615,
          4269.56220657277,
          4288.5739436619715,
          4093.676056338028,
          3681.0845070422533,
          3165.87441314554,
          2803.3028169014083,
          2379.3380281690143,
          1836.2640845070423,
          1243.7007042253522
         ]
        }
       ],
       "layout": {
        "legend": {
         "tracegroupgap": 0
        },
        "margin": {
         "t": 60
        },
        "template": {
         "data": {
          "bar": [
           {
            "error_x": {
             "color": "#2a3f5f"
            },
            "error_y": {
             "color": "#2a3f5f"
            },
            "marker": {
             "line": {
              "color": "#E5ECF6",
              "width": 0.5
             },
             "pattern": {
              "fillmode": "overlay",
              "size": 10,
              "solidity": 0.2
             }
            },
            "type": "bar"
           }
          ],
          "barpolar": [
           {
            "marker": {
             "line": {
              "color": "#E5ECF6",
              "width": 0.5
             },
             "pattern": {
              "fillmode": "overlay",
              "size": 10,
              "solidity": 0.2
             }
            },
            "type": "barpolar"
           }
          ],
          "carpet": [
           {
            "aaxis": {
             "endlinecolor": "#2a3f5f",
             "gridcolor": "white",
             "linecolor": "white",
             "minorgridcolor": "white",
             "startlinecolor": "#2a3f5f"
            },
            "baxis": {
             "endlinecolor": "#2a3f5f",
             "gridcolor": "white",
             "linecolor": "white",
             "minorgridcolor": "white",
             "startlinecolor": "#2a3f5f"
            },
            "type": "carpet"
           }
          ],
          "choropleth": [
           {
            "colorbar": {
             "outlinewidth": 0,
             "ticks": ""
            },
            "type": "choropleth"
           }
          ],
          "contour": [
           {
            "colorbar": {
             "outlinewidth": 0,
             "ticks": ""
            },
            "colorscale": [
             [
              0,
              "#0d0887"
             ],
             [
              0.1111111111111111,
              "#46039f"
             ],
             [
              0.2222222222222222,
              "#7201a8"
             ],
             [
              0.3333333333333333,
              "#9c179e"
             ],
             [
              0.4444444444444444,
              "#bd3786"
             ],
             [
              0.5555555555555556,
              "#d8576b"
             ],
             [
              0.6666666666666666,
              "#ed7953"
             ],
             [
              0.7777777777777778,
              "#fb9f3a"
             ],
             [
              0.8888888888888888,
              "#fdca26"
             ],
             [
              1,
              "#f0f921"
             ]
            ],
            "type": "contour"
           }
          ],
          "contourcarpet": [
           {
            "colorbar": {
             "outlinewidth": 0,
             "ticks": ""
            },
            "type": "contourcarpet"
           }
          ],
          "heatmap": [
           {
            "colorbar": {
             "outlinewidth": 0,
             "ticks": ""
            },
            "colorscale": [
             [
              0,
              "#0d0887"
             ],
             [
              0.1111111111111111,
              "#46039f"
             ],
             [
              0.2222222222222222,
              "#7201a8"
             ],
             [
              0.3333333333333333,
              "#9c179e"
             ],
             [
              0.4444444444444444,
              "#bd3786"
             ],
             [
              0.5555555555555556,
              "#d8576b"
             ],
             [
              0.6666666666666666,
              "#ed7953"
             ],
             [
              0.7777777777777778,
              "#fb9f3a"
             ],
             [
              0.8888888888888888,
              "#fdca26"
             ],
             [
              1,
              "#f0f921"
             ]
            ],
            "type": "heatmap"
           }
          ],
          "heatmapgl": [
           {
            "colorbar": {
             "outlinewidth": 0,
             "ticks": ""
            },
            "colorscale": [
             [
              0,
              "#0d0887"
             ],
             [
              0.1111111111111111,
              "#46039f"
             ],
             [
              0.2222222222222222,
              "#7201a8"
             ],
             [
              0.3333333333333333,
              "#9c179e"
             ],
             [
              0.4444444444444444,
              "#bd3786"
             ],
             [
              0.5555555555555556,
              "#d8576b"
             ],
             [
              0.6666666666666666,
              "#ed7953"
             ],
             [
              0.7777777777777778,
              "#fb9f3a"
             ],
             [
              0.8888888888888888,
              "#fdca26"
             ],
             [
              1,
              "#f0f921"
             ]
            ],
            "type": "heatmapgl"
           }
          ],
          "histogram": [
           {
            "marker": {
             "pattern": {
              "fillmode": "overlay",
              "size": 10,
              "solidity": 0.2
             }
            },
            "type": "histogram"
           }
          ],
          "histogram2d": [
           {
            "colorbar": {
             "outlinewidth": 0,
             "ticks": ""
            },
            "colorscale": [
             [
              0,
              "#0d0887"
             ],
             [
              0.1111111111111111,
              "#46039f"
             ],
             [
              0.2222222222222222,
              "#7201a8"
             ],
             [
              0.3333333333333333,
              "#9c179e"
             ],
             [
              0.4444444444444444,
              "#bd3786"
             ],
             [
              0.5555555555555556,
              "#d8576b"
             ],
             [
              0.6666666666666666,
              "#ed7953"
             ],
             [
              0.7777777777777778,
              "#fb9f3a"
             ],
             [
              0.8888888888888888,
              "#fdca26"
             ],
             [
              1,
              "#f0f921"
             ]
            ],
            "type": "histogram2d"
           }
          ],
          "histogram2dcontour": [
           {
            "colorbar": {
             "outlinewidth": 0,
             "ticks": ""
            },
            "colorscale": [
             [
              0,
              "#0d0887"
             ],
             [
              0.1111111111111111,
              "#46039f"
             ],
             [
              0.2222222222222222,
              "#7201a8"
             ],
             [
              0.3333333333333333,
              "#9c179e"
             ],
             [
              0.4444444444444444,
              "#bd3786"
             ],
             [
              0.5555555555555556,
              "#d8576b"
             ],
             [
              0.6666666666666666,
              "#ed7953"
             ],
             [
              0.7777777777777778,
              "#fb9f3a"
             ],
             [
              0.8888888888888888,
              "#fdca26"
             ],
             [
              1,
              "#f0f921"
             ]
            ],
            "type": "histogram2dcontour"
           }
          ],
          "mesh3d": [
           {
            "colorbar": {
             "outlinewidth": 0,
             "ticks": ""
            },
            "type": "mesh3d"
           }
          ],
          "parcoords": [
           {
            "line": {
             "colorbar": {
              "outlinewidth": 0,
              "ticks": ""
             }
            },
            "type": "parcoords"
           }
          ],
          "pie": [
           {
            "automargin": true,
            "type": "pie"
           }
          ],
          "scatter": [
           {
            "fillpattern": {
             "fillmode": "overlay",
             "size": 10,
             "solidity": 0.2
            },
            "type": "scatter"
           }
          ],
          "scatter3d": [
           {
            "line": {
             "colorbar": {
              "outlinewidth": 0,
              "ticks": ""
             }
            },
            "marker": {
             "colorbar": {
              "outlinewidth": 0,
              "ticks": ""
             }
            },
            "type": "scatter3d"
           }
          ],
          "scattercarpet": [
           {
            "marker": {
             "colorbar": {
              "outlinewidth": 0,
              "ticks": ""
             }
            },
            "type": "scattercarpet"
           }
          ],
          "scattergeo": [
           {
            "marker": {
             "colorbar": {
              "outlinewidth": 0,
              "ticks": ""
             }
            },
            "type": "scattergeo"
           }
          ],
          "scattergl": [
           {
            "marker": {
             "colorbar": {
              "outlinewidth": 0,
              "ticks": ""
             }
            },
            "type": "scattergl"
           }
          ],
          "scattermapbox": [
           {
            "marker": {
             "colorbar": {
              "outlinewidth": 0,
              "ticks": ""
             }
            },
            "type": "scattermapbox"
           }
          ],
          "scatterpolar": [
           {
            "marker": {
             "colorbar": {
              "outlinewidth": 0,
              "ticks": ""
             }
            },
            "type": "scatterpolar"
           }
          ],
          "scatterpolargl": [
           {
            "marker": {
             "colorbar": {
              "outlinewidth": 0,
              "ticks": ""
             }
            },
            "type": "scatterpolargl"
           }
          ],
          "scatterternary": [
           {
            "marker": {
             "colorbar": {
              "outlinewidth": 0,
              "ticks": ""
             }
            },
            "type": "scatterternary"
           }
          ],
          "surface": [
           {
            "colorbar": {
             "outlinewidth": 0,
             "ticks": ""
            },
            "colorscale": [
             [
              0,
              "#0d0887"
             ],
             [
              0.1111111111111111,
              "#46039f"
             ],
             [
              0.2222222222222222,
              "#7201a8"
             ],
             [
              0.3333333333333333,
              "#9c179e"
             ],
             [
              0.4444444444444444,
              "#bd3786"
             ],
             [
              0.5555555555555556,
              "#d8576b"
             ],
             [
              0.6666666666666666,
              "#ed7953"
             ],
             [
              0.7777777777777778,
              "#fb9f3a"
             ],
             [
              0.8888888888888888,
              "#fdca26"
             ],
             [
              1,
              "#f0f921"
             ]
            ],
            "type": "surface"
           }
          ],
          "table": [
           {
            "cells": {
             "fill": {
              "color": "#EBF0F8"
             },
             "line": {
              "color": "white"
             }
            },
            "header": {
             "fill": {
              "color": "#C8D4E3"
             },
             "line": {
              "color": "white"
             }
            },
            "type": "table"
           }
          ]
         },
         "layout": {
          "annotationdefaults": {
           "arrowcolor": "#2a3f5f",
           "arrowhead": 0,
           "arrowwidth": 1
          },
          "autotypenumbers": "strict",
          "coloraxis": {
           "colorbar": {
            "outlinewidth": 0,
            "ticks": ""
           }
          },
          "colorscale": {
           "diverging": [
            [
             0,
             "#8e0152"
            ],
            [
             0.1,
             "#c51b7d"
            ],
            [
             0.2,
             "#de77ae"
            ],
            [
             0.3,
             "#f1b6da"
            ],
            [
             0.4,
             "#fde0ef"
            ],
            [
             0.5,
             "#f7f7f7"
            ],
            [
             0.6,
             "#e6f5d0"
            ],
            [
             0.7,
             "#b8e186"
            ],
            [
             0.8,
             "#7fbc41"
            ],
            [
             0.9,
             "#4d9221"
            ],
            [
             1,
             "#276419"
            ]
           ],
           "sequential": [
            [
             0,
             "#0d0887"
            ],
            [
             0.1111111111111111,
             "#46039f"
            ],
            [
             0.2222222222222222,
             "#7201a8"
            ],
            [
             0.3333333333333333,
             "#9c179e"
            ],
            [
             0.4444444444444444,
             "#bd3786"
            ],
            [
             0.5555555555555556,
             "#d8576b"
            ],
            [
             0.6666666666666666,
             "#ed7953"
            ],
            [
             0.7777777777777778,
             "#fb9f3a"
            ],
            [
             0.8888888888888888,
             "#fdca26"
            ],
            [
             1,
             "#f0f921"
            ]
           ],
           "sequentialminus": [
            [
             0,
             "#0d0887"
            ],
            [
             0.1111111111111111,
             "#46039f"
            ],
            [
             0.2222222222222222,
             "#7201a8"
            ],
            [
             0.3333333333333333,
             "#9c179e"
            ],
            [
             0.4444444444444444,
             "#bd3786"
            ],
            [
             0.5555555555555556,
             "#d8576b"
            ],
            [
             0.6666666666666666,
             "#ed7953"
            ],
            [
             0.7777777777777778,
             "#fb9f3a"
            ],
            [
             0.8888888888888888,
             "#fdca26"
            ],
            [
             1,
             "#f0f921"
            ]
           ]
          },
          "colorway": [
           "#636efa",
           "#EF553B",
           "#00cc96",
           "#ab63fa",
           "#FFA15A",
           "#19d3f3",
           "#FF6692",
           "#B6E880",
           "#FF97FF",
           "#FECB52"
          ],
          "font": {
           "color": "#2a3f5f"
          },
          "geo": {
           "bgcolor": "white",
           "lakecolor": "white",
           "landcolor": "#E5ECF6",
           "showlakes": true,
           "showland": true,
           "subunitcolor": "white"
          },
          "hoverlabel": {
           "align": "left"
          },
          "hovermode": "closest",
          "mapbox": {
           "style": "light"
          },
          "paper_bgcolor": "white",
          "plot_bgcolor": "#E5ECF6",
          "polar": {
           "angularaxis": {
            "gridcolor": "white",
            "linecolor": "white",
            "ticks": ""
           },
           "bgcolor": "#E5ECF6",
           "radialaxis": {
            "gridcolor": "white",
            "linecolor": "white",
            "ticks": ""
           }
          },
          "scene": {
           "xaxis": {
            "backgroundcolor": "#E5ECF6",
            "gridcolor": "white",
            "gridwidth": 2,
            "linecolor": "white",
            "showbackground": true,
            "ticks": "",
            "zerolinecolor": "white"
           },
           "yaxis": {
            "backgroundcolor": "#E5ECF6",
            "gridcolor": "white",
            "gridwidth": 2,
            "linecolor": "white",
            "showbackground": true,
            "ticks": "",
            "zerolinecolor": "white"
           },
           "zaxis": {
            "backgroundcolor": "#E5ECF6",
            "gridcolor": "white",
            "gridwidth": 2,
            "linecolor": "white",
            "showbackground": true,
            "ticks": "",
            "zerolinecolor": "white"
           }
          },
          "shapedefaults": {
           "line": {
            "color": "#2a3f5f"
           }
          },
          "ternary": {
           "aaxis": {
            "gridcolor": "white",
            "linecolor": "white",
            "ticks": ""
           },
           "baxis": {
            "gridcolor": "white",
            "linecolor": "white",
            "ticks": ""
           },
           "bgcolor": "#E5ECF6",
           "caxis": {
            "gridcolor": "white",
            "linecolor": "white",
            "ticks": ""
           }
          },
          "title": {
           "x": 0.05
          },
          "xaxis": {
           "automargin": true,
           "gridcolor": "white",
           "linecolor": "white",
           "ticks": "",
           "title": {
            "standoff": 15
           },
           "zerolinecolor": "white",
           "zerolinewidth": 2
          },
          "yaxis": {
           "automargin": true,
           "gridcolor": "white",
           "linecolor": "white",
           "ticks": "",
           "title": {
            "standoff": 15
           },
           "zerolinecolor": "white",
           "zerolinewidth": 2
          }
         }
        },
        "xaxis": {
         "anchor": "y",
         "domain": [
          0,
          1
         ],
         "title": {
          "text": "x"
         }
        },
        "yaxis": {
         "anchor": "x",
         "domain": [
          0,
          1
         ],
         "title": {
          "text": "y"
         }
        }
       }
      }
     },
     "metadata": {},
     "output_type": "display_data"
    }
   ],
   "source": [
    "def make_baseline_forecast():\n",
    "    # средние значения traffic_volume для каждого дня недели\n",
    "    z = _train_data.groupby(['weekday', 'hour'])['traffic_volume'].mean()\n",
    "\n",
    "    # удваиваем baseline потому что размер нашего тестового датасета - две недели\n",
    "    y_pred = pd.concat([z] * 2, ignore_index=True).to_numpy()\n",
    "\n",
    "    y_test = _test_data['traffic_volume']\n",
    "    mae = mean_absolute_error(y_test, y_pred)\n",
    "    rmse = np.sqrt(mean_squared_error(y_test, y_pred))\n",
    "    print(f'Mean Absolute Error: {mae:.2f}');\n",
    "    print(f'Root Mean Squared Error: {rmse:.2f}')\n",
    "\n",
    "    fig = px.line(x=_test_data[\"date_time\"], y=y_test, render_mode=\"svg\", log_y=False)\n",
    "    fig.add_scatter(x=_test_data[\"date_time\"],  y=y_pred, mode='lines', name='Baseline')\n",
    "    fig.show()\n",
    "\n",
    "\n",
    "make_baseline_forecast()"
   ]
  },
  {
   "cell_type": "markdown",
   "id": "9143b1bd",
   "metadata": {},
   "source": [
    "Теперь попробуем построить другие модели."
   ]
  },
  {
   "cell_type": "markdown",
   "id": "8ae8ee83",
   "metadata": {},
   "source": [
    "### AR-X"
   ]
  },
  {
   "cell_type": "code",
   "execution_count": 31,
   "id": "1855e6ad",
   "metadata": {},
   "outputs": [
    {
     "data": {
      "image/png": "[encoded data removed]",
      "text/plain": [
       "<Figure size 640x480 with 1 Axes>"
      ]
     },
     "metadata": {},
     "output_type": "display_data"
    }
   ],
   "source": [
    "def acf():\n",
    "    train_data = _train_data.copy()\n",
    "\n",
    "    plot_acf(train_data['traffic_volume'], lags=150)\n",
    "    plt.show()\n",
    "\n",
    "\n",
    "acf()"
   ]
  },
  {
   "cell_type": "code",
   "execution_count": 32,
   "id": "8f14eb3b",
   "metadata": {},
   "outputs": [
    {
     "name": "stdout",
     "output_type": "stream",
     "text": [
      "Mean Absolute Error: 259.42\n",
      "Root Mean Squared Error: 407.73\n"
     ]
    },
    {
     "data": {
      "application/vnd.plotly.v1+json": {
       "config": {
        "plotlyServerURL": "https://plot.ly"
       },
       "data": [
        {
         "hovertemplate": "x=%{x}<br>y=%{y}<extra></extra>",
         "legendgroup": "",
         "line": {
          "color": "#636efa",
          "dash": "solid"
         },
         "marker": {
          "symbol": "circle"
         },
         "mode": "lines",
         "name": "",
         "orientation": "v",
         "showlegend": false,
         "type": "scatter",
         "x": [
          "2018-09-17T00:00:00",
          "2018-09-17T01:00:00",
          "2018-09-17T02:00:00",
          "2018-09-17T03:00:00",
          "2018-09-17T04:00:00",
          "2018-09-17T05:00:00",
          "2018-09-17T06:00:00",
          "2018-09-17T07:00:00",
          "2018-09-17T08:00:00",
          "2018-09-17T09:00:00",
          "2018-09-17T10:00:00",
          "2018-09-17T11:00:00",
          "2018-09-17T12:00:00",
          "2018-09-17T13:00:00",
          "2018-09-17T14:00:00",
          "2018-09-17T15:00:00",
          "2018-09-17T16:00:00",
          "2018-09-17T17:00:00",
          "2018-09-17T18:00:00",
          "2018-09-17T19:00:00",
          "2018-09-17T20:00:00",
          "2018-09-17T21:00:00",
          "2018-09-17T22:00:00",
          "2018-09-17T23:00:00",
          "2018-09-18T00:00:00",
          "2018-09-18T01:00:00",
          "2018-09-18T02:00:00",
          "2018-09-18T03:00:00",
          "2018-09-18T04:00:00",
          "2018-09-18T05:00:00",
          "2018-09-18T06:00:00",
          "2018-09-18T07:00:00",
          "2018-09-18T08:00:00",
          "2018-09-18T09:00:00",
          "2018-09-18T10:00:00",
          "2018-09-18T11:00:00",
          "2018-09-18T12:00:00",
          "2018-09-18T13:00:00",
          "2018-09-18T14:00:00",
          "2018-09-18T15:00:00",
          "2018-09-18T16:00:00",
          "2018-09-18T17:00:00",
          "2018-09-18T18:00:00",
          "2018-09-18T19:00:00",
          "2018-09-18T20:00:00",
          "2018-09-18T21:00:00",
          "2018-09-18T22:00:00",
          "2018-09-18T23:00:00",
          "2018-09-19T00:00:00",
          "2018-09-19T01:00:00",
          "2018-09-19T02:00:00",
          "2018-09-19T03:00:00",
          "2018-09-19T04:00:00",
          "2018-09-19T05:00:00",
          "2018-09-19T06:00:00",
          "2018-09-19T07:00:00",
          "2018-09-19T08:00:00",
          "2018-09-19T09:00:00",
          "2018-09-19T10:00:00",
          "2018-09-19T11:00:00",
          "2018-09-19T12:00:00",
          "2018-09-19T13:00:00",
          "2018-09-19T14:00:00",
          "2018-09-19T15:00:00",
          "2018-09-19T16:00:00",
          "2018-09-19T17:00:00",
          "2018-09-19T18:00:00",
          "2018-09-19T19:00:00",
          "2018-09-19T20:00:00",
          "2018-09-19T21:00:00",
          "2018-09-19T22:00:00",
          "2018-09-19T23:00:00",
          "2018-09-20T00:00:00",
          "2018-09-20T01:00:00",
          "2018-09-20T02:00:00",
          "2018-09-20T03:00:00",
          "2018-09-20T04:00:00",
          "2018-09-20T05:00:00",
          "2018-09-20T06:00:00",
          "2018-09-20T07:00:00",
          "2018-09-20T08:00:00",
          "2018-09-20T09:00:00",
          "2018-09-20T10:00:00",
          "2018-09-20T11:00:00",
          "2018-09-20T12:00:00",
          "2018-09-20T13:00:00",
          "2018-09-20T14:00:00",
          "2018-09-20T15:00:00",
          "2018-09-20T16:00:00",
          "2018-09-20T17:00:00",
          "2018-09-20T18:00:00",
          "2018-09-20T19:00:00",
          "2018-09-20T20:00:00",
          "2018-09-20T21:00:00",
          "2018-09-20T22:00:00",
          "2018-09-20T23:00:00",
          "2018-09-21T00:00:00",
          "2018-09-21T01:00:00",
          "2018-09-21T02:00:00",
          "2018-09-21T03:00:00",
          "2018-09-21T04:00:00",
          "2018-09-21T05:00:00",
          "2018-09-21T06:00:00",
          "2018-09-21T07:00:00",
          "2018-09-21T08:00:00",
          "2018-09-21T09:00:00",
          "2018-09-21T10:00:00",
          "2018-09-21T11:00:00",
          "2018-09-21T12:00:00",
          "2018-09-21T13:00:00",
          "2018-09-21T14:00:00",
          "2018-09-21T15:00:00",
          "2018-09-21T16:00:00",
          "2018-09-21T17:00:00",
          "2018-09-21T18:00:00",
          "2018-09-21T19:00:00",
          "2018-09-21T20:00:00",
          "2018-09-21T21:00:00",
          "2018-09-21T22:00:00",
          "2018-09-21T23:00:00",
          "2018-09-22T00:00:00",
          "2018-09-22T01:00:00",
          "2018-09-22T02:00:00",
          "2018-09-22T03:00:00",
          "2018-09-22T04:00:00",
          "2018-09-22T05:00:00",
          "2018-09-22T06:00:00",
          "2018-09-22T07:00:00",
          "2018-09-22T08:00:00",
          "2018-09-22T09:00:00",
          "2018-09-22T10:00:00",
          "2018-09-22T11:00:00",
          "2018-09-22T12:00:00",
          "2018-09-22T13:00:00",
          "2018-09-22T14:00:00",
          "2018-09-22T15:00:00",
          "2018-09-22T16:00:00",
          "2018-09-22T17:00:00",
          "2018-09-22T18:00:00",
          "2018-09-22T19:00:00",
          "2018-09-22T20:00:00",
          "2018-09-22T21:00:00",
          "2018-09-22T22:00:00",
          "2018-09-22T23:00:00",
          "2018-09-23T00:00:00",
          "2018-09-23T01:00:00",
          "2018-09-23T02:00:00",
          "2018-09-23T03:00:00",
          "2018-09-23T04:00:00",
          "2018-09-23T05:00:00",
          "2018-09-23T06:00:00",
          "2018-09-23T07:00:00",
          "2018-09-23T08:00:00",
          "2018-09-23T09:00:00",
          "2018-09-23T10:00:00",
          "2018-09-23T11:00:00",
          "2018-09-23T12:00:00",
          "2018-09-23T13:00:00",
          "2018-09-23T14:00:00",
          "2018-09-23T15:00:00",
          "2018-09-23T16:00:00",
          "2018-09-23T17:00:00",
          "2018-09-23T18:00:00",
          "2018-09-23T19:00:00",
          "2018-09-23T20:00:00",
          "2018-09-23T21:00:00",
          "2018-09-23T22:00:00",
          "2018-09-23T23:00:00",
          "2018-09-24T00:00:00",
          "2018-09-24T01:00:00",
          "2018-09-24T02:00:00",
          "2018-09-24T03:00:00",
          "2018-09-24T04:00:00",
          "2018-09-24T05:00:00",
          "2018-09-24T06:00:00",
          "2018-09-24T07:00:00",
          "2018-09-24T08:00:00",
          "2018-09-24T09:00:00",
          "2018-09-24T10:00:00",
          "2018-09-24T11:00:00",
          "2018-09-24T12:00:00",
          "2018-09-24T13:00:00",
          "2018-09-24T14:00:00",
          "2018-09-24T15:00:00",
          "2018-09-24T16:00:00",
          "2018-09-24T17:00:00",
          "2018-09-24T18:00:00",
          "2018-09-24T19:00:00",
          "2018-09-24T20:00:00",
          "2018-09-24T21:00:00",
          "2018-09-24T22:00:00",
          "2018-09-24T23:00:00",
          "2018-09-25T00:00:00",
          "2018-09-25T01:00:00",
          "2018-09-25T02:00:00",
          "2018-09-25T03:00:00",
          "2018-09-25T04:00:00",
          "2018-09-25T05:00:00",
          "2018-09-25T06:00:00",
          "2018-09-25T07:00:00",
          "2018-09-25T08:00:00",
          "2018-09-25T09:00:00",
          "2018-09-25T10:00:00",
          "2018-09-25T11:00:00",
          "2018-09-25T12:00:00",
          "2018-09-25T13:00:00",
          "2018-09-25T14:00:00",
          "2018-09-25T15:00:00",
          "2018-09-25T16:00:00",
          "2018-09-25T17:00:00",
          "2018-09-25T18:00:00",
          "2018-09-25T19:00:00",
          "2018-09-25T20:00:00",
          "2018-09-25T21:00:00",
          "2018-09-25T22:00:00",
          "2018-09-25T23:00:00",
          "2018-09-26T00:00:00",
          "2018-09-26T01:00:00",
          "2018-09-26T02:00:00",
          "2018-09-26T03:00:00",
          "2018-09-26T04:00:00",
          "2018-09-26T05:00:00",
          "2018-09-26T06:00:00",
          "2018-09-26T07:00:00",
          "2018-09-26T08:00:00",
          "2018-09-26T09:00:00",
          "2018-09-26T10:00:00",
          "2018-09-26T11:00:00",
          "2018-09-26T12:00:00",
          "2018-09-26T13:00:00",
          "2018-09-26T14:00:00",
          "2018-09-26T15:00:00",
          "2018-09-26T16:00:00",
          "2018-09-26T17:00:00",
          "2018-09-26T18:00:00",
          "2018-09-26T19:00:00",
          "2018-09-26T20:00:00",
          "2018-09-26T21:00:00",
          "2018-09-26T22:00:00",
          "2018-09-26T23:00:00",
          "2018-09-27T00:00:00",
          "2018-09-27T01:00:00",
          "2018-09-27T02:00:00",
          "2018-09-27T03:00:00",
          "2018-09-27T04:00:00",
          "2018-09-27T05:00:00",
          "2018-09-27T06:00:00",
          "2018-09-27T07:00:00",
          "2018-09-27T08:00:00",
          "2018-09-27T09:00:00",
          "2018-09-27T10:00:00",
          "2018-09-27T11:00:00",
          "2018-09-27T12:00:00",
          "2018-09-27T13:00:00",
          "2018-09-27T14:00:00",
          "2018-09-27T15:00:00",
          "2018-09-27T16:00:00",
          "2018-09-27T17:00:00",
          "2018-09-27T18:00:00",
          "2018-09-27T19:00:00",
          "2018-09-27T20:00:00",
          "2018-09-27T21:00:00",
          "2018-09-27T22:00:00",
          "2018-09-27T23:00:00",
          "2018-09-28T00:00:00",
          "2018-09-28T01:00:00",
          "2018-09-28T02:00:00",
          "2018-09-28T03:00:00",
          "2018-09-28T04:00:00",
          "2018-09-28T05:00:00",
          "2018-09-28T06:00:00",
          "2018-09-28T07:00:00",
          "2018-09-28T08:00:00",
          "2018-09-28T09:00:00",
          "2018-09-28T10:00:00",
          "2018-09-28T11:00:00",
          "2018-09-28T12:00:00",
          "2018-09-28T13:00:00",
          "2018-09-28T14:00:00",
          "2018-09-28T15:00:00",
          "2018-09-28T16:00:00",
          "2018-09-28T17:00:00",
          "2018-09-28T18:00:00",
          "2018-09-28T19:00:00",
          "2018-09-28T20:00:00",
          "2018-09-28T21:00:00",
          "2018-09-28T22:00:00",
          "2018-09-28T23:00:00",
          "2018-09-29T00:00:00",
          "2018-09-29T01:00:00",
          "2018-09-29T02:00:00",
          "2018-09-29T03:00:00",
          "2018-09-29T04:00:00",
          "2018-09-29T05:00:00",
          "2018-09-29T06:00:00",
          "2018-09-29T07:00:00",
          "2018-09-29T08:00:00",
          "2018-09-29T09:00:00",
          "2018-09-29T10:00:00",
          "2018-09-29T11:00:00",
          "2018-09-29T12:00:00",
          "2018-09-29T13:00:00",
          "2018-09-29T14:00:00",
          "2018-09-29T15:00:00",
          "2018-09-29T16:00:00",
          "2018-09-29T17:00:00",
          "2018-09-29T18:00:00",
          "2018-09-29T19:00:00",
          "2018-09-29T20:00:00",
          "2018-09-29T21:00:00",
          "2018-09-29T22:00:00",
          "2018-09-29T23:00:00",
          "2018-09-30T00:00:00",
          "2018-09-30T01:00:00",
          "2018-09-30T02:00:00",
          "2018-09-30T03:00:00",
          "2018-09-30T04:00:00",
          "2018-09-30T05:00:00",
          "2018-09-30T06:00:00",
          "2018-09-30T07:00:00",
          "2018-09-30T08:00:00",
          "2018-09-30T09:00:00",
          "2018-09-30T10:00:00",
          "2018-09-30T11:00:00",
          "2018-09-30T12:00:00",
          "2018-09-30T13:00:00",
          "2018-09-30T14:00:00",
          "2018-09-30T15:00:00",
          "2018-09-30T16:00:00",
          "2018-09-30T17:00:00",
          "2018-09-30T18:00:00",
          "2018-09-30T19:00:00",
          "2018-09-30T20:00:00",
          "2018-09-30T21:00:00",
          "2018-09-30T22:00:00",
          "2018-09-30T23:00:00"
         ],
         "xaxis": "x",
         "y": [
          550,
          280,
          260,
          344,
          880,
          2965,
          5667,
          6533,
          6070,
          5145,
          4201,
          4371,
          4533,
          4680,
          4930,
          5327,
          6354,
          5412,
          4000,
          2897,
          2466,
          2090,
          1434,
          869,
          536,
          351,
          227,
          340,
          858,
          3027,
          5642,
          6516,
          5873,
          5123,
          4527,
          4593,
          4725,
          4737,
          4931,
          5623,
          6623,
          5916,
          4423,
          3309,
          2805,
          2400,
          2631,
          1501,
          617,
          401,
          282,
          358,
          913,
          3074,
          5803,
          6510,
          6101,
          5331,
          4266,
          4567,
          4734,
          4675,
          4980,
          5718,
          6382,
          5647,
          4469,
          3460,
          2865,
          2576,
          1693,
          994,
          583,
          349,
          265,
          344,
          914,
          2924,
          5417,
          5766,
          5331,
          5264,
          4326,
          4592,
          4695,
          4459,
          4517,
          5257,
          6331,
          5065,
          3898,
          2957,
          2740,
          3497,
          2356,
          1633,
          698,
          407,
          304,
          377,
          867,
          2919,
          5457,
          6539,
          5653,
          4981,
          4548,
          4937,
          5039,
          4901,
          5185,
          5973,
          6007,
          5489,
          4607,
          3958,
          3255,
          2931,
          2570,
          2179,
          1516,
          1273,
          1207,
          611,
          647,
          960,
          1635,
          2445,
          3415,
          3770,
          4308,
          4638,
          4831,
          4565,
          4654,
          4589,
          4582,
          4847,
          4620,
          4347,
          3602,
          2985,
          2480,
          1871,
          1249,
          690,
          565,
          319,
          339,
          514,
          910,
          1402,
          2203,
          3562,
          4594,
          4252,
          3945,
          4107,
          4091,
          4195,
          4413,
          4117,
          3997,
          3516,
          2846,
          2346,
          1635,
          934,
          509,
          344,
          219,
          328,
          888,
          2954,
          5747,
          6591,
          5900,
          4936,
          4351,
          4468,
          4531,
          4433,
          4816,
          5443,
          6307,
          5562,
          4167,
          3253,
          2559,
          2084,
          1392,
          826,
          527,
          302,
          234,
          366,
          880,
          3063,
          5833,
          6568,
          6080,
          5083,
          4385,
          4458,
          4580,
          4716,
          4973,
          5748,
          6597,
          5734,
          4320,
          3058,
          2765,
          2282,
          1571,
          924,
          543,
          358,
          227,
          358,
          890,
          3052,
          5930,
          6193,
          6032,
          5320,
          4523,
          4721,
          4793,
          4624,
          4928,
          5693,
          6334,
          5954,
          4661,
          3639,
          3197,
          3475,
          1973,
          1209,
          654,
          421,
          312,
          373,
          919,
          3002,
          5685,
          6589,
          5946,
          5181,
          4500,
          4670,
          4849,
          4787,
          4943,
          5892,
          6451,
          5968,
          4498,
          3419,
          2856,
          2649,
          2003,
          1278,
          699,
          461,
          301,
          367,
          870,
          2751,
          5521,
          6401,
          5798,
          4791,
          4574,
          4863,
          5066,
          4898,
          5193,
          5838,
          6188,
          5695,
          5104,
          4286,
          3538,
          3058,
          2713,
          3544,
          1733,
          867,
          524,
          359,
          425,
          743,
          1359,
          2036,
          3073,
          3725,
          4059,
          4378,
          4657,
          4553,
          4618,
          4564,
          4735,
          4878,
          4569,
          3818,
          3338,
          2950,
          2607,
          3856,
          1826,
          920,
          696,
          364,
          335,
          444,
          802,
          1175,
          2002,
          2882,
          3701,
          4049,
          4429,
          4547,
          4380,
          4302,
          4283,
          4132,
          3947,
          3543,
          2781,
          2159,
          1450,
          954
         ],
         "yaxis": "y"
        },
        {
         "mode": "lines",
         "name": "AR",
         "type": "scatter",
         "x": [
          "2018-09-17T00:00:00",
          "2018-09-17T01:00:00",
          "2018-09-17T02:00:00",
          "2018-09-17T03:00:00",
          "2018-09-17T04:00:00",
          "2018-09-17T05:00:00",
          "2018-09-17T06:00:00",
          "2018-09-17T07:00:00",
          "2018-09-17T08:00:00",
          "2018-09-17T09:00:00",
          "2018-09-17T10:00:00",
          "2018-09-17T11:00:00",
          "2018-09-17T12:00:00",
          "2018-09-17T13:00:00",
          "2018-09-17T14:00:00",
          "2018-09-17T15:00:00",
          "2018-09-17T16:00:00",
          "2018-09-17T17:00:00",
          "2018-09-17T18:00:00",
          "2018-09-17T19:00:00",
          "2018-09-17T20:00:00",
          "2018-09-17T21:00:00",
          "2018-09-17T22:00:00",
          "2018-09-17T23:00:00",
          "2018-09-18T00:00:00",
          "2018-09-18T01:00:00",
          "2018-09-18T02:00:00",
          "2018-09-18T03:00:00",
          "2018-09-18T04:00:00",
          "2018-09-18T05:00:00",
          "2018-09-18T06:00:00",
          "2018-09-18T07:00:00",
          "2018-09-18T08:00:00",
          "2018-09-18T09:00:00",
          "2018-09-18T10:00:00",
          "2018-09-18T11:00:00",
          "2018-09-18T12:00:00",
          "2018-09-18T13:00:00",
          "2018-09-18T14:00:00",
          "2018-09-18T15:00:00",
          "2018-09-18T16:00:00",
          "2018-09-18T17:00:00",
          "2018-09-18T18:00:00",
          "2018-09-18T19:00:00",
          "2018-09-18T20:00:00",
          "2018-09-18T21:00:00",
          "2018-09-18T22:00:00",
          "2018-09-18T23:00:00",
          "2018-09-19T00:00:00",
          "2018-09-19T01:00:00",
          "2018-09-19T02:00:00",
          "2018-09-19T03:00:00",
          "2018-09-19T04:00:00",
          "2018-09-19T05:00:00",
          "2018-09-19T06:00:00",
          "2018-09-19T07:00:00",
          "2018-09-19T08:00:00",
          "2018-09-19T09:00:00",
          "2018-09-19T10:00:00",
          "2018-09-19T11:00:00",
          "2018-09-19T12:00:00",
          "2018-09-19T13:00:00",
          "2018-09-19T14:00:00",
          "2018-09-19T15:00:00",
          "2018-09-19T16:00:00",
          "2018-09-19T17:00:00",
          "2018-09-19T18:00:00",
          "2018-09-19T19:00:00",
          "2018-09-19T20:00:00",
          "2018-09-19T21:00:00",
          "2018-09-19T22:00:00",
          "2018-09-19T23:00:00",
          "2018-09-20T00:00:00",
          "2018-09-20T01:00:00",
          "2018-09-20T02:00:00",
          "2018-09-20T03:00:00",
          "2018-09-20T04:00:00",
          "2018-09-20T05:00:00",
          "2018-09-20T06:00:00",
          "2018-09-20T07:00:00",
          "2018-09-20T08:00:00",
          "2018-09-20T09:00:00",
          "2018-09-20T10:00:00",
          "2018-09-20T11:00:00",
          "2018-09-20T12:00:00",
          "2018-09-20T13:00:00",
          "2018-09-20T14:00:00",
          "2018-09-20T15:00:00",
          "2018-09-20T16:00:00",
          "2018-09-20T17:00:00",
          "2018-09-20T18:00:00",
          "2018-09-20T19:00:00",
          "2018-09-20T20:00:00",
          "2018-09-20T21:00:00",
          "2018-09-20T22:00:00",
          "2018-09-20T23:00:00",
          "2018-09-21T00:00:00",
          "2018-09-21T01:00:00",
          "2018-09-21T02:00:00",
          "2018-09-21T03:00:00",
          "2018-09-21T04:00:00",
          "2018-09-21T05:00:00",
          "2018-09-21T06:00:00",
          "2018-09-21T07:00:00",
          "2018-09-21T08:00:00",
          "2018-09-21T09:00:00",
          "2018-09-21T10:00:00",
          "2018-09-21T11:00:00",
          "2018-09-21T12:00:00",
          "2018-09-21T13:00:00",
          "2018-09-21T14:00:00",
          "2018-09-21T15:00:00",
          "2018-09-21T16:00:00",
          "2018-09-21T17:00:00",
          "2018-09-21T18:00:00",
          "2018-09-21T19:00:00",
          "2018-09-21T20:00:00",
          "2018-09-21T21:00:00",
          "2018-09-21T22:00:00",
          "2018-09-21T23:00:00",
          "2018-09-22T00:00:00",
          "2018-09-22T01:00:00",
          "2018-09-22T02:00:00",
          "2018-09-22T03:00:00",
          "2018-09-22T04:00:00",
          "2018-09-22T05:00:00",
          "2018-09-22T06:00:00",
          "2018-09-22T07:00:00",
          "2018-09-22T08:00:00",
          "2018-09-22T09:00:00",
          "2018-09-22T10:00:00",
          "2018-09-22T11:00:00",
          "2018-09-22T12:00:00",
          "2018-09-22T13:00:00",
          "2018-09-22T14:00:00",
          "2018-09-22T15:00:00",
          "2018-09-22T16:00:00",
          "2018-09-22T17:00:00",
          "2018-09-22T18:00:00",
          "2018-09-22T19:00:00",
          "2018-09-22T20:00:00",
          "2018-09-22T21:00:00",
          "2018-09-22T22:00:00",
          "2018-09-22T23:00:00",
          "2018-09-23T00:00:00",
          "2018-09-23T01:00:00",
          "2018-09-23T02:00:00",
          "2018-09-23T03:00:00",
          "2018-09-23T04:00:00",
          "2018-09-23T05:00:00",
          "2018-09-23T06:00:00",
          "2018-09-23T07:00:00",
          "2018-09-23T08:00:00",
          "2018-09-23T09:00:00",
          "2018-09-23T10:00:00",
          "2018-09-23T11:00:00",
          "2018-09-23T12:00:00",
          "2018-09-23T13:00:00",
          "2018-09-23T14:00:00",
          "2018-09-23T15:00:00",
          "2018-09-23T16:00:00",
          "2018-09-23T17:00:00",
          "2018-09-23T18:00:00",
          "2018-09-23T19:00:00",
          "2018-09-23T20:00:00",
          "2018-09-23T21:00:00",
          "2018-09-23T22:00:00",
          "2018-09-23T23:00:00",
          "2018-09-24T00:00:00",
          "2018-09-24T01:00:00",
          "2018-09-24T02:00:00",
          "2018-09-24T03:00:00",
          "2018-09-24T04:00:00",
          "2018-09-24T05:00:00",
          "2018-09-24T06:00:00",
          "2018-09-24T07:00:00",
          "2018-09-24T08:00:00",
          "2018-09-24T09:00:00",
          "2018-09-24T10:00:00",
          "2018-09-24T11:00:00",
          "2018-09-24T12:00:00",
          "2018-09-24T13:00:00",
          "2018-09-24T14:00:00",
          "2018-09-24T15:00:00",
          "2018-09-24T16:00:00",
          "2018-09-24T17:00:00",
          "2018-09-24T18:00:00",
          "2018-09-24T19:00:00",
          "2018-09-24T20:00:00",
          "2018-09-24T21:00:00",
          "2018-09-24T22:00:00",
          "2018-09-24T23:00:00",
          "2018-09-25T00:00:00",
          "2018-09-25T01:00:00",
          "2018-09-25T02:00:00",
          "2018-09-25T03:00:00",
          "2018-09-25T04:00:00",
          "2018-09-25T05:00:00",
          "2018-09-25T06:00:00",
          "2018-09-25T07:00:00",
          "2018-09-25T08:00:00",
          "2018-09-25T09:00:00",
          "2018-09-25T10:00:00",
          "2018-09-25T11:00:00",
          "2018-09-25T12:00:00",
          "2018-09-25T13:00:00",
          "2018-09-25T14:00:00",
          "2018-09-25T15:00:00",
          "2018-09-25T16:00:00",
          "2018-09-25T17:00:00",
          "2018-09-25T18:00:00",
          "2018-09-25T19:00:00",
          "2018-09-25T20:00:00",
          "2018-09-25T21:00:00",
          "2018-09-25T22:00:00",
          "2018-09-25T23:00:00",
          "2018-09-26T00:00:00",
          "2018-09-26T01:00:00",
          "2018-09-26T02:00:00",
          "2018-09-26T03:00:00",
          "2018-09-26T04:00:00",
          "2018-09-26T05:00:00",
          "2018-09-26T06:00:00",
          "2018-09-26T07:00:00",
          "2018-09-26T08:00:00",
          "2018-09-26T09:00:00",
          "2018-09-26T10:00:00",
          "2018-09-26T11:00:00",
          "2018-09-26T12:00:00",
          "2018-09-26T13:00:00",
          "2018-09-26T14:00:00",
          "2018-09-26T15:00:00",
          "2018-09-26T16:00:00",
          "2018-09-26T17:00:00",
          "2018-09-26T18:00:00",
          "2018-09-26T19:00:00",
          "2018-09-26T20:00:00",
          "2018-09-26T21:00:00",
          "2018-09-26T22:00:00",
          "2018-09-26T23:00:00",
          "2018-09-27T00:00:00",
          "2018-09-27T01:00:00",
          "2018-09-27T02:00:00",
          "2018-09-27T03:00:00",
          "2018-09-27T04:00:00",
          "2018-09-27T05:00:00",
          "2018-09-27T06:00:00",
          "2018-09-27T07:00:00",
          "2018-09-27T08:00:00",
          "2018-09-27T09:00:00",
          "2018-09-27T10:00:00",
          "2018-09-27T11:00:00",
          "2018-09-27T12:00:00",
          "2018-09-27T13:00:00",
          "2018-09-27T14:00:00",
          "2018-09-27T15:00:00",
          "2018-09-27T16:00:00",
          "2018-09-27T17:00:00",
          "2018-09-27T18:00:00",
          "2018-09-27T19:00:00",
          "2018-09-27T20:00:00",
          "2018-09-27T21:00:00",
          "2018-09-27T22:00:00",
          "2018-09-27T23:00:00",
          "2018-09-28T00:00:00",
          "2018-09-28T01:00:00",
          "2018-09-28T02:00:00",
          "2018-09-28T03:00:00",
          "2018-09-28T04:00:00",
          "2018-09-28T05:00:00",
          "2018-09-28T06:00:00",
          "2018-09-28T07:00:00",
          "2018-09-28T08:00:00",
          "2018-09-28T09:00:00",
          "2018-09-28T10:00:00",
          "2018-09-28T11:00:00",
          "2018-09-28T12:00:00",
          "2018-09-28T13:00:00",
          "2018-09-28T14:00:00",
          "2018-09-28T15:00:00",
          "2018-09-28T16:00:00",
          "2018-09-28T17:00:00",
          "2018-09-28T18:00:00",
          "2018-09-28T19:00:00",
          "2018-09-28T20:00:00",
          "2018-09-28T21:00:00",
          "2018-09-28T22:00:00",
          "2018-09-28T23:00:00",
          "2018-09-29T00:00:00",
          "2018-09-29T01:00:00",
          "2018-09-29T02:00:00",
          "2018-09-29T03:00:00",
          "2018-09-29T04:00:00",
          "2018-09-29T05:00:00",
          "2018-09-29T06:00:00",
          "2018-09-29T07:00:00",
          "2018-09-29T08:00:00",
          "2018-09-29T09:00:00",
          "2018-09-29T10:00:00",
          "2018-09-29T11:00:00",
          "2018-09-29T12:00:00",
          "2018-09-29T13:00:00",
          "2018-09-29T14:00:00",
          "2018-09-29T15:00:00",
          "2018-09-29T16:00:00",
          "2018-09-29T17:00:00",
          "2018-09-29T18:00:00",
          "2018-09-29T19:00:00",
          "2018-09-29T20:00:00",
          "2018-09-29T21:00:00",
          "2018-09-29T22:00:00",
          "2018-09-29T23:00:00",
          "2018-09-30T00:00:00",
          "2018-09-30T01:00:00",
          "2018-09-30T02:00:00",
          "2018-09-30T03:00:00",
          "2018-09-30T04:00:00",
          "2018-09-30T05:00:00",
          "2018-09-30T06:00:00",
          "2018-09-30T07:00:00",
          "2018-09-30T08:00:00",
          "2018-09-30T09:00:00",
          "2018-09-30T10:00:00",
          "2018-09-30T11:00:00",
          "2018-09-30T12:00:00",
          "2018-09-30T13:00:00",
          "2018-09-30T14:00:00",
          "2018-09-30T15:00:00",
          "2018-09-30T16:00:00",
          "2018-09-30T17:00:00",
          "2018-09-30T18:00:00",
          "2018-09-30T19:00:00",
          "2018-09-30T20:00:00",
          "2018-09-30T21:00:00",
          "2018-09-30T22:00:00",
          "2018-09-30T23:00:00"
         ],
         "y": [
          688.2228549628225,
          569.0265769607514,
          512.6393613578823,
          463.864998467876,
          775.5181040299035,
          2141.474942343484,
          3834.728418023692,
          4384.895723064257,
          4067.5609693793504,
          3652.001609192598,
          3292.728838041675,
          3764.1656020065748,
          3934.803105597936,
          3988.9755145123454,
          4336.698674074948,
          4876.188535425452,
          5368.9077758810145,
          4847.139447024061,
          3724.382418285498,
          2865.667864228037,
          2451.688687963003,
          1945.3738463433488,
          1250.6653169275269,
          894.3718112858414,
          372.78510596612125,
          246.4947152082292,
          237.94720911642128,
          198.72166084781009,
          801.4812964836117,
          2739.053789722793,
          5317.742975055143,
          6092.730949723401,
          5717.395901888905,
          4893.394981356957,
          4139.588835263183,
          4357.720204100941,
          4538.471697645035,
          4595.998883722498,
          4753.105617549255,
          5336.621842330076,
          6056.669193027824,
          5519.120090906454,
          4135.575546621929,
          3083.310257430653,
          2675.2172919203767,
          2236.2151634522315,
          1777.5725079352057,
          1537.5132699382384,
          504.16281649904533,
          92.84403358846396,
          103.29478962435411,
          162.5346756073188,
          801.0726505934879,
          2712.5527482374423,
          5300.648674097571,
          6154.715794735208,
          5800.954512452313,
          5131.480570591502,
          4397.264654434226,
          4517.783755204794,
          4651.701874930122,
          4620.0905230410835,
          4773.538163747219,
          5524.431172782472,
          6386.113066958368,
          5854.2227498614975,
          4422.217982317117,
          3365.6904017807938,
          3004.229368447754,
          2484.6902601930487,
          1888.6859278593695,
          1724.4594190594275,
          732.6478325180236,
          267.0027651791735,
          210.91167749363683,
          229.34489883476897,
          874.5503047307473,
          2986.81055553816,
          5668.6335331863975,
          6474.226410428598,
          5942.491226898866,
          5117.305084498954,
          4520.048381633485,
          4622.777819485428,
          4796.662323699885,
          4723.994821336038,
          4980.8101845091105,
          5633.834032374012,
          6361.4744912616625,
          5752.505008203772,
          4489.303567444342,
          3536.278533333215,
          3143.127658403739,
          2687.2169422751854,
          1890.1302723135905,
          1292.1128576051776,
          521.9120538717364,
          266.6327735089486,
          264.09239420083907,
          231.3038269826758,
          855.4160827367725,
          2775.389448588866,
          5193.718743289142,
          6136.667211634494,
          5752.089317010129,
          5038.5963544481965,
          4504.900568687672,
          4806.265829333302,
          5003.664803815211,
          4976.568935392342,
          5055.069587082091,
          5625.1041448083015,
          5972.73441710571,
          5397.511735007816,
          4515.946015853087,
          3725.025941785982,
          3272.5876143166734,
          3009.2427664731586,
          2498.2126432689474,
          1887.9283246144482,
          1116.990646294017,
          675.3851251198765,
          596.223342249312,
          505.59292804324224,
          448.7068751786103,
          930.408236009143,
          1755.355213203955,
          2512.5290954353823,
          3336.150068969816,
          3953.2470613916544,
          4239.670872561674,
          4756.291071498576,
          4789.191288371332,
          4613.86604794304,
          4434.378193820028,
          4513.1011601117325,
          4540.6631778020055,
          4248.171904365402,
          3889.2089346124935,
          3531.5156804052085,
          3202.1931628834595,
          2907.531608397935,
          2517.77340779883,
          2102.804668127701,
          1344.8260565281494,
          863.3044563919947,
          641.2347504890997,
          438.8623814438455,
          350.9055799838288,
          642.8039040830387,
          1308.6575305986516,
          1738.186936911254,
          2484.787720788409,
          3227.006325197609,
          3637.537465243195,
          4201.159467132344,
          4138.464691789667,
          3961.918718035484,
          3885.901896608557,
          4087.227162516676,
          4328.240485091661,
          4063.492116936061,
          3548.048616611578,
          3226.589195665083,
          2890.643679668371,
          2321.8092446608966,
          1584.7261126296148,
          1031.1997062408236,
          489.02935487305996,
          365.34314708956214,
          307.9900861634528,
          257.1576739678216,
          693.99124008272,
          2264.364594211469,
          4212.493735701601,
          4924.627106829111,
          4767.728986055477,
          4252.098044857165,
          3848.691035274787,
          4280.700799615706,
          4256.148954808694,
          4302.967598653068,
          4563.526612943316,
          5244.6845579066485,
          5877.589484626409,
          5291.632618330118,
          4048.5296515836217,
          3174.975759118911,
          2747.122670323716,
          2142.297042308064,
          1426.440417029776,
          1070.9683479970438,
          404.5080792456903,
          323.97981876303527,
          324.82700069302734,
          275.42648153425216,
          900.3098425173602,
          2956.9141708983443,
          5507.9758823384145,
          6395.346542694791,
          6037.816011621706,
          5141.141814920013,
          4477.945197335552,
          4565.446009916663,
          4703.304170435942,
          4774.279635305999,
          4937.303822628951,
          5647.413245526307,
          6300.542010954248,
          5730.880179416368,
          4376.8997296236785,
          3318.3465461706533,
          2862.198154320637,
          2416.1825389720393,
          2087.332468022216,
          1779.6142479459818,
          768.9958211026508,
          310.11498265702204,
          257.41016548002426,
          296.34064723567815,
          953.1165533850111,
          2935.241960706167,
          5432.016299506693,
          6339.80957218454,
          6094.355625833217,
          5398.129765688771,
          4690.599222621277,
          4673.741220981352,
          4778.236759152258,
          4806.489161697139,
          4971.001021248929,
          5685.633078880926,
          6493.778992694775,
          5948.095442833065,
          4603.660697052024,
          3514.7041576562438,
          3132.0066980197535,
          2617.574803258769,
          2261.554334607632,
          1775.3256032534682,
          919.2381888697863,
          462.3865547252902,
          348.00000867882466,
          359.9808531201865,
          1025.5868518057273,
          3183.933764700702,
          5745.0955186608735,
          6661.4934465945735,
          6143.083660372228,
          5265.045055591432,
          4622.153545209096,
          4720.826694669395,
          4846.459422442653,
          4801.714124921224,
          5012.015650701506,
          5796.074718643752,
          6433.823582575102,
          5831.5270104857045,
          4600.052093763239,
          3651.835018132567,
          3264.70523256503,
          2819.735650107812,
          2071.2090134074383,
          1352.1042742304426,
          593.6078940176652,
          315.04150564614065,
          288.2959743598348,
          250.52235338620108,
          884.595771836948,
          2819.3834351209293,
          5131.255400686223,
          6045.520141491348,
          5825.806623645706,
          5139.870669140391,
          4686.928661835187,
          4931.835254357051,
          5069.441489168839,
          5046.8058092628235,
          5180.326793538796,
          5688.693857690474,
          5970.724031206971,
          5469.929412028254,
          4587.632471565781,
          3803.450800847957,
          3391.438674439112,
          3098.6548682690895,
          2647.1509139233567,
          2050.0785879673135,
          1256.2878917445487,
          791.8151192076375,
          659.1485855632437,
          555.0965387161632,
          533.6618818613731,
          1060.118103944782,
          1958.2832319845659,
          2742.663900663162,
          3512.0406015354715,
          4086.165781655216,
          4368.296051104838,
          4927.97922426838,
          5015.54782862022,
          4808.342081265656,
          4576.2126823912595,
          4560.105361538954,
          4607.134470964696,
          4334.206732958082,
          3936.2530164506024,
          3561.4971370757303,
          3280.8802721573675,
          3017.601281354765,
          2645.89961906756,
          2177.708647912328,
          1446.0663358697072,
          988.8769680220122,
          767.1919519778304,
          577.4953061519917,
          448.2367418416486,
          766.6536519101489,
          1455.2188056314285,
          1922.288619344657,
          2591.7256552948847,
          3184.5981981727427,
          3684.4187814215557,
          4226.331646476651,
          4243.404465624795,
          4040.2571894922658,
          3963.4829212684413,
          4198.224119528128,
          4425.503348706796,
          4120.513875466134,
          3616.5853447024892,
          3282.3912021737797,
          3013.3565850604373,
          2458.1693126000573,
          1763.9785575136455,
          1234.9182599902697
         ]
        }
       ],
       "layout": {
        "legend": {
         "tracegroupgap": 0
        },
        "margin": {
         "t": 60
        },
        "template": {
         "data": {
          "bar": [
           {
            "error_x": {
             "color": "#2a3f5f"
            },
            "error_y": {
             "color": "#2a3f5f"
            },
            "marker": {
             "line": {
              "color": "#E5ECF6",
              "width": 0.5
             },
             "pattern": {
              "fillmode": "overlay",
              "size": 10,
              "solidity": 0.2
             }
            },
            "type": "bar"
           }
          ],
          "barpolar": [
           {
            "marker": {
             "line": {
              "color": "#E5ECF6",
              "width": 0.5
             },
             "pattern": {
              "fillmode": "overlay",
              "size": 10,
              "solidity": 0.2
             }
            },
            "type": "barpolar"
           }
          ],
          "carpet": [
           {
            "aaxis": {
             "endlinecolor": "#2a3f5f",
             "gridcolor": "white",
             "linecolor": "white",
             "minorgridcolor": "white",
             "startlinecolor": "#2a3f5f"
            },
            "baxis": {
             "endlinecolor": "#2a3f5f",
             "gridcolor": "white",
             "linecolor": "white",
             "minorgridcolor": "white",
             "startlinecolor": "#2a3f5f"
            },
            "type": "carpet"
           }
          ],
          "choropleth": [
           {
            "colorbar": {
             "outlinewidth": 0,
             "ticks": ""
            },
            "type": "choropleth"
           }
          ],
          "contour": [
           {
            "colorbar": {
             "outlinewidth": 0,
             "ticks": ""
            },
            "colorscale": [
             [
              0,
              "#0d0887"
             ],
             [
              0.1111111111111111,
              "#46039f"
             ],
             [
              0.2222222222222222,
              "#7201a8"
             ],
             [
              0.3333333333333333,
              "#9c179e"
             ],
             [
              0.4444444444444444,
              "#bd3786"
             ],
             [
              0.5555555555555556,
              "#d8576b"
             ],
             [
              0.6666666666666666,
              "#ed7953"
             ],
             [
              0.7777777777777778,
              "#fb9f3a"
             ],
             [
              0.8888888888888888,
              "#fdca26"
             ],
             [
              1,
              "#f0f921"
             ]
            ],
            "type": "contour"
           }
          ],
          "contourcarpet": [
           {
            "colorbar": {
             "outlinewidth": 0,
             "ticks": ""
            },
            "type": "contourcarpet"
           }
          ],
          "heatmap": [
           {
            "colorbar": {
             "outlinewidth": 0,
             "ticks": ""
            },
            "colorscale": [
             [
              0,
              "#0d0887"
             ],
             [
              0.1111111111111111,
              "#46039f"
             ],
             [
              0.2222222222222222,
              "#7201a8"
             ],
             [
              0.3333333333333333,
              "#9c179e"
             ],
             [
              0.4444444444444444,
              "#bd3786"
             ],
             [
              0.5555555555555556,
              "#d8576b"
             ],
             [
              0.6666666666666666,
              "#ed7953"
             ],
             [
              0.7777777777777778,
              "#fb9f3a"
             ],
             [
              0.8888888888888888,
              "#fdca26"
             ],
             [
              1,
              "#f0f921"
             ]
            ],
            "type": "heatmap"
           }
          ],
          "heatmapgl": [
           {
            "colorbar": {
             "outlinewidth": 0,
             "ticks": ""
            },
            "colorscale": [
             [
              0,
              "#0d0887"
             ],
             [
              0.1111111111111111,
              "#46039f"
             ],
             [
              0.2222222222222222,
              "#7201a8"
             ],
             [
              0.3333333333333333,
              "#9c179e"
             ],
             [
              0.4444444444444444,
              "#bd3786"
             ],
             [
              0.5555555555555556,
              "#d8576b"
             ],
             [
              0.6666666666666666,
              "#ed7953"
             ],
             [
              0.7777777777777778,
              "#fb9f3a"
             ],
             [
              0.8888888888888888,
              "#fdca26"
             ],
             [
              1,
              "#f0f921"
             ]
            ],
            "type": "heatmapgl"
           }
          ],
          "histogram": [
           {
            "marker": {
             "pattern": {
              "fillmode": "overlay",
              "size": 10,
              "solidity": 0.2
             }
            },
            "type": "histogram"
           }
          ],
          "histogram2d": [
           {
            "colorbar": {
             "outlinewidth": 0,
             "ticks": ""
            },
            "colorscale": [
             [
              0,
              "#0d0887"
             ],
             [
              0.1111111111111111,
              "#46039f"
             ],
             [
              0.2222222222222222,
              "#7201a8"
             ],
             [
              0.3333333333333333,
              "#9c179e"
             ],
             [
              0.4444444444444444,
              "#bd3786"
             ],
             [
              0.5555555555555556,
              "#d8576b"
             ],
             [
              0.6666666666666666,
              "#ed7953"
             ],
             [
              0.7777777777777778,
              "#fb9f3a"
             ],
             [
              0.8888888888888888,
              "#fdca26"
             ],
             [
              1,
              "#f0f921"
             ]
            ],
            "type": "histogram2d"
           }
          ],
          "histogram2dcontour": [
           {
            "colorbar": {
             "outlinewidth": 0,
             "ticks": ""
            },
            "colorscale": [
             [
              0,
              "#0d0887"
             ],
             [
              0.1111111111111111,
              "#46039f"
             ],
             [
              0.2222222222222222,
              "#7201a8"
             ],
             [
              0.3333333333333333,
              "#9c179e"
             ],
             [
              0.4444444444444444,
              "#bd3786"
             ],
             [
              0.5555555555555556,
              "#d8576b"
             ],
             [
              0.6666666666666666,
              "#ed7953"
             ],
             [
              0.7777777777777778,
              "#fb9f3a"
             ],
             [
              0.8888888888888888,
              "#fdca26"
             ],
             [
              1,
              "#f0f921"
             ]
            ],
            "type": "histogram2dcontour"
           }
          ],
          "mesh3d": [
           {
            "colorbar": {
             "outlinewidth": 0,
             "ticks": ""
            },
            "type": "mesh3d"
           }
          ],
          "parcoords": [
           {
            "line": {
             "colorbar": {
              "outlinewidth": 0,
              "ticks": ""
             }
            },
            "type": "parcoords"
           }
          ],
          "pie": [
           {
            "automargin": true,
            "type": "pie"
           }
          ],
          "scatter": [
           {
            "fillpattern": {
             "fillmode": "overlay",
             "size": 10,
             "solidity": 0.2
            },
            "type": "scatter"
           }
          ],
          "scatter3d": [
           {
            "line": {
             "colorbar": {
              "outlinewidth": 0,
              "ticks": ""
             }
            },
            "marker": {
             "colorbar": {
              "outlinewidth": 0,
              "ticks": ""
             }
            },
            "type": "scatter3d"
           }
          ],
          "scattercarpet": [
           {
            "marker": {
             "colorbar": {
              "outlinewidth": 0,
              "ticks": ""
             }
            },
            "type": "scattercarpet"
           }
          ],
          "scattergeo": [
           {
            "marker": {
             "colorbar": {
              "outlinewidth": 0,
              "ticks": ""
             }
            },
            "type": "scattergeo"
           }
          ],
          "scattergl": [
           {
            "marker": {
             "colorbar": {
              "outlinewidth": 0,
              "ticks": ""
             }
            },
            "type": "scattergl"
           }
          ],
          "scattermapbox": [
           {
            "marker": {
             "colorbar": {
              "outlinewidth": 0,
              "ticks": ""
             }
            },
            "type": "scattermapbox"
           }
          ],
          "scatterpolar": [
           {
            "marker": {
             "colorbar": {
              "outlinewidth": 0,
              "ticks": ""
             }
            },
            "type": "scatterpolar"
           }
          ],
          "scatterpolargl": [
           {
            "marker": {
             "colorbar": {
              "outlinewidth": 0,
              "ticks": ""
             }
            },
            "type": "scatterpolargl"
           }
          ],
          "scatterternary": [
           {
            "marker": {
             "colorbar": {
              "outlinewidth": 0,
              "ticks": ""
             }
            },
            "type": "scatterternary"
           }
          ],
          "surface": [
           {
            "colorbar": {
             "outlinewidth": 0,
             "ticks": ""
            },
            "colorscale": [
             [
              0,
              "#0d0887"
             ],
             [
              0.1111111111111111,
              "#46039f"
             ],
             [
              0.2222222222222222,
              "#7201a8"
             ],
             [
              0.3333333333333333,
              "#9c179e"
             ],
             [
              0.4444444444444444,
              "#bd3786"
             ],
             [
              0.5555555555555556,
              "#d8576b"
             ],
             [
              0.6666666666666666,
              "#ed7953"
             ],
             [
              0.7777777777777778,
              "#fb9f3a"
             ],
             [
              0.8888888888888888,
              "#fdca26"
             ],
             [
              1,
              "#f0f921"
             ]
            ],
            "type": "surface"
           }
          ],
          "table": [
           {
            "cells": {
             "fill": {
              "color": "#EBF0F8"
             },
             "line": {
              "color": "white"
             }
            },
            "header": {
             "fill": {
              "color": "#C8D4E3"
             },
             "line": {
              "color": "white"
             }
            },
            "type": "table"
           }
          ]
         },
         "layout": {
          "annotationdefaults": {
           "arrowcolor": "#2a3f5f",
           "arrowhead": 0,
           "arrowwidth": 1
          },
          "autotypenumbers": "strict",
          "coloraxis": {
           "colorbar": {
            "outlinewidth": 0,
            "ticks": ""
           }
          },
          "colorscale": {
           "diverging": [
            [
             0,
             "#8e0152"
            ],
            [
             0.1,
             "#c51b7d"
            ],
            [
             0.2,
             "#de77ae"
            ],
            [
             0.3,
             "#f1b6da"
            ],
            [
             0.4,
             "#fde0ef"
            ],
            [
             0.5,
             "#f7f7f7"
            ],
            [
             0.6,
             "#e6f5d0"
            ],
            [
             0.7,
             "#b8e186"
            ],
            [
             0.8,
             "#7fbc41"
            ],
            [
             0.9,
             "#4d9221"
            ],
            [
             1,
             "#276419"
            ]
           ],
           "sequential": [
            [
             0,
             "#0d0887"
            ],
            [
             0.1111111111111111,
             "#46039f"
            ],
            [
             0.2222222222222222,
             "#7201a8"
            ],
            [
             0.3333333333333333,
             "#9c179e"
            ],
            [
             0.4444444444444444,
             "#bd3786"
            ],
            [
             0.5555555555555556,
             "#d8576b"
            ],
            [
             0.6666666666666666,
             "#ed7953"
            ],
            [
             0.7777777777777778,
             "#fb9f3a"
            ],
            [
             0.8888888888888888,
             "#fdca26"
            ],
            [
             1,
             "#f0f921"
            ]
           ],
           "sequentialminus": [
            [
             0,
             "#0d0887"
            ],
            [
             0.1111111111111111,
             "#46039f"
            ],
            [
             0.2222222222222222,
             "#7201a8"
            ],
            [
             0.3333333333333333,
             "#9c179e"
            ],
            [
             0.4444444444444444,
             "#bd3786"
            ],
            [
             0.5555555555555556,
             "#d8576b"
            ],
            [
             0.6666666666666666,
             "#ed7953"
            ],
            [
             0.7777777777777778,
             "#fb9f3a"
            ],
            [
             0.8888888888888888,
             "#fdca26"
            ],
            [
             1,
             "#f0f921"
            ]
           ]
          },
          "colorway": [
           "#636efa",
           "#EF553B",
           "#00cc96",
           "#ab63fa",
           "#FFA15A",
           "#19d3f3",
           "#FF6692",
           "#B6E880",
           "#FF97FF",
           "#FECB52"
          ],
          "font": {
           "color": "#2a3f5f"
          },
          "geo": {
           "bgcolor": "white",
           "lakecolor": "white",
           "landcolor": "#E5ECF6",
           "showlakes": true,
           "showland": true,
           "subunitcolor": "white"
          },
          "hoverlabel": {
           "align": "left"
          },
          "hovermode": "closest",
          "mapbox": {
           "style": "light"
          },
          "paper_bgcolor": "white",
          "plot_bgcolor": "#E5ECF6",
          "polar": {
           "angularaxis": {
            "gridcolor": "white",
            "linecolor": "white",
            "ticks": ""
           },
           "bgcolor": "#E5ECF6",
           "radialaxis": {
            "gridcolor": "white",
            "linecolor": "white",
            "ticks": ""
           }
          },
          "scene": {
           "xaxis": {
            "backgroundcolor": "#E5ECF6",
            "gridcolor": "white",
            "gridwidth": 2,
            "linecolor": "white",
            "showbackground": true,
            "ticks": "",
            "zerolinecolor": "white"
           },
           "yaxis": {
            "backgroundcolor": "#E5ECF6",
            "gridcolor": "white",
            "gridwidth": 2,
            "linecolor": "white",
            "showbackground": true,
            "ticks": "",
            "zerolinecolor": "white"
           },
           "zaxis": {
            "backgroundcolor": "#E5ECF6",
            "gridcolor": "white",
            "gridwidth": 2,
            "linecolor": "white",
            "showbackground": true,
            "ticks": "",
            "zerolinecolor": "white"
           }
          },
          "shapedefaults": {
           "line": {
            "color": "#2a3f5f"
           }
          },
          "ternary": {
           "aaxis": {
            "gridcolor": "white",
            "linecolor": "white",
            "ticks": ""
           },
           "baxis": {
            "gridcolor": "white",
            "linecolor": "white",
            "ticks": ""
           },
           "bgcolor": "#E5ECF6",
           "caxis": {
            "gridcolor": "white",
            "linecolor": "white",
            "ticks": ""
           }
          },
          "title": {
           "x": 0.05
          },
          "xaxis": {
           "automargin": true,
           "gridcolor": "white",
           "linecolor": "white",
           "ticks": "",
           "title": {
            "standoff": 15
           },
           "zerolinecolor": "white",
           "zerolinewidth": 2
          },
          "yaxis": {
           "automargin": true,
           "gridcolor": "white",
           "linecolor": "white",
           "ticks": "",
           "title": {
            "standoff": 15
           },
           "zerolinecolor": "white",
           "zerolinewidth": 2
          }
         }
        },
        "xaxis": {
         "anchor": "y",
         "domain": [
          0,
          1
         ],
         "title": {
          "text": "x"
         }
        },
        "yaxis": {
         "anchor": "x",
         "domain": [
          0,
          1
         ],
         "title": {
          "text": "y"
         }
        }
       }
      }
     },
     "metadata": {},
     "output_type": "display_data"
    }
   ],
   "source": [
    "def make_ar_forecast():\n",
    "    y_train = _train_data['traffic_volume']\n",
    "    y_test = _test_data['traffic_volume']\n",
    "    x_test = _test_data['date_time']\n",
    "\n",
    "    lags = range(1, 24*7*2)\n",
    "    ar_model = AutoReg(y_train, lags=lags, trend='c').fit()\n",
    "\n",
    "    y_pred = ar_model.predict(start=len(_train_data), end=len(_train_data) + len(_test_data) - 1, dynamic=False)\n",
    "\n",
    "    mae = mean_absolute_error(y_test, y_pred)\n",
    "    rmse = np.sqrt(mean_squared_error(y_test, y_pred))\n",
    "    print(f'Mean Absolute Error: {mae:.2f}');\n",
    "    print(f'Root Mean Squared Error: {rmse:.2f}');\n",
    "\n",
    "    fig = px.line(x=x_test, y=y_test, render_mode=\"svg\", log_y=False)\n",
    "    fig.add_scatter(x=x_test,  y=y_pred, mode='lines', name='AR')\n",
    "    fig.show()\n",
    "\n",
    "\n",
    "make_ar_forecast()"
   ]
  },
  {
   "cell_type": "markdown",
   "id": "97427e33",
   "metadata": {},
   "source": [
    "### ARIMA"
   ]
  },
  {
   "cell_type": "code",
   "execution_count": 33,
   "id": "f3968ad1",
   "metadata": {},
   "outputs": [
    {
     "name": "stdout",
     "output_type": "stream",
     "text": [
      "Mean Absolute Error: 2523.16\n",
      "Root Mean Squared Error: 3009.44\n"
     ]
    },
    {
     "data": {
      "image/png": "[encoded data removed]",
      "text/plain": [
       "<Figure size 1000x500 with 1 Axes>"
      ]
     },
     "metadata": {},
     "output_type": "display_data"
    }
   ],
   "source": [
    "def make_arima_forecast():\n",
    "    y_train = _train_data['traffic_volume']\n",
    "    model = ARIMA(y_train, order=(2, 1, 0)).fit()\n",
    "    make_forecast(model)\n",
    "\n",
    "\n",
    "make_arima_forecast()"
   ]
  },
  {
   "cell_type": "markdown",
   "id": "7e0c156f",
   "metadata": {},
   "source": [
    "Как и следовало ожидать, результат плохой т.к. модель ARIMA не учитывает сезоннсть."
   ]
  },
  {
   "cell_type": "markdown",
   "id": "c4928c24",
   "metadata": {},
   "source": [
    "### SARIMA"
   ]
  },
  {
   "cell_type": "code",
   "execution_count": 51,
   "id": "a9f70808",
   "metadata": {},
   "outputs": [],
   "source": [
    "_y_train = _train_data['traffic_volume']\n",
    "_sarima_model = SARIMAX(_y_train, order=(2, 0, 0), seasonal_order=(2, 1, 0, 24*7)).fit(low_memory=True)"
   ]
  },
  {
   "cell_type": "code",
   "execution_count": null,
   "id": "8d55b715",
   "metadata": {},
   "outputs": [
    {
     "name": "stdout",
     "output_type": "stream",
     "text": [
      "Mean Absolute Error: 221.51\n",
      "Root Mean Squared Error: 384.79\n"
     ]
    },
    {
     "data": {
      "image/png": "[encoded data removed]",
      "text/plain": [
       "<Figure size 1000x500 with 1 Axes>"
      ]
     },
     "metadata": {},
     "output_type": "display_data"
    }
   ],
   "source": [
    "make_forecast(_sarima_model)"
   ]
  },
  {
   "cell_type": "code",
   "execution_count": 26,
   "id": "4ec4379b",
   "metadata": {},
   "outputs": [],
   "source": [
    "_y_train = _train_data['traffic_volume']\n",
    "_sarima_model2 = SARIMAX(_y_train, order=(2, 0, 0), seasonal_order=(2, 1, 1, 24*7)).fit(low_memory=True)"
   ]
  },
  {
   "cell_type": "code",
   "execution_count": null,
   "id": "af79086f",
   "metadata": {},
   "outputs": [],
   "source": [
    "make_forecast(_sarima_model2)"
   ]
  },
  {
   "cell_type": "markdown",
   "id": "7f281e5c",
   "metadata": {},
   "source": [
    "Лучше чем AR-X, но хуже чем baseline прогноз. Возможно, модель можно улучшить, указав ненулевые значения параметрам I(d) (т.к. в данных наблюдается тренд), а также MA(q) и сезонное MA(Q).\n",
    "\n",
    "К сожалению модель обучается очень медленно, поэтому решено было ограничится параметрами, оказывающими наибольший эффект: AR(p) и сезонный I(D) (т.к. имеется ярко выраженный сезонный тренд)."
   ]
  },
  {
   "cell_type": "markdown",
   "id": "41375a74",
   "metadata": {},
   "source": [
    "## Выводы\n",
    "\n",
    "В данной конкретной задаче, возможно, было бы достаточно простой модели на базе средних значений, либо AR-X модели.\n",
    "Причина: требуется прогноз всего на неделю вперед. А значит, такую модель можно каждый раз быстро обучать заново по мере поступления новых данных.\n",
    "\n",
    "Модель SARIMA имеет смысл, если из данных можно выделить цикличность и сезонность. Например: нагрузка метрополитена зимой и летом, в сезон отпусков и на празники. Однако для этого нужно иметь большую выборку. Кроме того, данные имеют свойство устаревать. К примеру, открыли новую станцию пересадки, новую ветку метро, новый маршрут наземного транспорта. Также возможны чрезвычайные ситуации, такие как пандемия. Обучить SARIMA сложнее, т.к. обучается медленно и требуется подбирать гиперпараметры.\n",
    "\n",
    "Имеет смысл попробовать модель SARIMAX, т.к. она позволяет учитывать и другие признаки, например температуру воздуха. Однако целесообразность использования SARIMAX в данной задаче все равно под вопросом, т.к. обучить такую модель будет еще сложнее, а выгода по сравнению с простейшими моделями, скорее всего, будет небольшой."
   ]
  }
 ],
 "metadata": {
  "kernelspec": {
   "display_name": "venv",
   "language": "python",
   "name": "python3"
  },
  "language_info": {
   "codemirror_mode": {
    "name": "ipython",
    "version": 3
   },
   "file_extension": ".py",
   "mimetype": "text/x-python",
   "name": "python",
   "nbconvert_exporter": "python",
   "pygments_lexer": "ipython3",
   "version": "3.9.1"
  }
 },
 "nbformat": 4,
 "nbformat_minor": 5
}
